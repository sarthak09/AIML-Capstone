{
 "cells": [
  {
   "cell_type": "markdown",
   "metadata": {
    "colab_type": "text",
    "id": "0ZqgaT5EwbuH"
   },
   "source": [
    "# Lib importing"
   ]
  },
  {
   "cell_type": "code",
   "execution_count": 6,
   "metadata": {
    "colab": {
     "base_uri": "https://localhost:8080/",
     "height": 34
    },
    "colab_type": "code",
    "id": "zcngyGcLwbuP",
    "outputId": "9f1a4ac4-f913-401e-ef21-ce85b686ee90"
   },
   "outputs": [
    {
     "name": "stdout",
     "output_type": "stream",
     "text": [
      "Drive already mounted at /content/drive/; to attempt to forcibly remount, call drive.mount(\"/content/drive/\", force_remount=True).\n"
     ]
    }
   ],
   "source": [
    "from google.colab import drive\n",
    "drive.mount('/content/drive/')"
   ]
  },
  {
   "cell_type": "code",
   "execution_count": 7,
   "metadata": {
    "colab": {
     "base_uri": "https://localhost:8080/",
     "height": 34
    },
    "colab_type": "code",
    "id": "lKSe_lBXwbuW",
    "outputId": "15333107-8c8b-4e11-e4b7-4fbf9b9da175"
   },
   "outputs": [
    {
     "name": "stdout",
     "output_type": "stream",
     "text": [
      "Requirement already satisfied: pydicom in /usr/local/lib/python3.6/dist-packages (1.4.2)\n"
     ]
    }
   ],
   "source": [
    "!pip install pydicom"
   ]
  },
  {
   "cell_type": "code",
   "execution_count": 0,
   "metadata": {
    "colab": {},
    "colab_type": "code",
    "collapsed": true,
    "id": "lwJNxstmwbuc"
   },
   "outputs": [],
   "source": [
    "import pandas as pd\n",
    "import numpy as np\n",
    "import matplotlib.pyplot as plt\n",
    "import seaborn as sns\n",
    "import os\n",
    "import cv2\n",
    "import pydicom\n",
    "from keras.applications.mobilenet import MobileNet, preprocess_input\n",
    "from sklearn.utils import shuffle\n",
    "import matplotlib.patches as patches\n",
    "from sklearn.metrics import confusion_matrix,classification_report,accuracy_score,precision_score,recall_score,f1_score\n",
    "from sklearn import metrics\n",
    "from sklearn.metrics import roc_auc_score\n",
    "from sklearn.model_selection import train_test_split\n",
    "from tensorflow.keras.applications.mobilenet import MobileNet, preprocess_input\n",
    "from tensorflow.keras.callbacks import ModelCheckpoint, EarlyStopping, ReduceLROnPlateau, Callback\n",
    "import tensorflow as tf\n",
    "from tensorflow.keras.layers import Conv2D, Reshape, Concatenate, Flatten, MaxPooling2D, BatchNormalization\n",
    "from tensorflow.keras.layers import Dense, Dropout, Flatten, Input\n",
    "from tensorflow.keras.utils import Sequence\n",
    "from tensorflow.keras.backend import epsilon\n",
    "from tensorflow.keras.applications.vgg16 import VGG16\n",
    "from tensorflow.keras.applications.resnet50 import ResNet50\n",
    "from tensorflow.keras.applications.vgg19 import VGG19\n",
    "from tensorflow.keras.models import Model, Sequential\n",
    "from tensorflow.keras import optimizers\n",
    "from sklearn.metrics import roc_curve\n",
    "from tensorflow.keras import regularizers\n",
    "from tensorflow.keras.applications.densenet import DenseNet121\n",
    "from keras.models import model_from_json\n",
    "\n",
    "from sklearn.preprocessing import StandardScaler\n",
    "from sklearn.preprocessing import PolynomialFeatures\n",
    "from sklearn.model_selection import RandomizedSearchCV\n",
    "from scipy.stats import zscore\n",
    "from sklearn.utils import resample\n",
    "from imblearn import over_sampling as samp\n",
    "from  sklearn.decomposition import PCA\n",
    "\n",
    "import os\n",
    "import pickle\n",
    "from pydicom.filereader import read_dicomdir\n",
    "from matplotlib import style\n",
    "from matplotlib import patches\n",
    "style.use('ggplot')\n",
    "import h5py\n",
    "#%matplotlib inline"
   ]
  },
  {
   "cell_type": "code",
   "execution_count": 0,
   "metadata": {
    "colab": {},
    "colab_type": "code",
    "collapsed": true,
    "id": "nF0tVdJ25uOY"
   },
   "outputs": [],
   "source": [
    "#TO extract data folder from zip file\n",
    "from zipfile import ZipFile\n",
    "with ZipFile('/content/drive/My Drive/capstone/stage_2_train_images.zip', 'r') as z:\n",
    "    z.extractall()"
   ]
  },
  {
   "cell_type": "code",
   "execution_count": 0,
   "metadata": {
    "colab": {},
    "colab_type": "code",
    "collapsed": true,
    "id": "7QD-iptmwbuj"
   },
   "outputs": [],
   "source": [
    "#Import dataset\n",
    "df_train=pd.read_csv('/content/drive/My Drive/capstone/stage_2_train_labels.csv')"
   ]
  },
  {
   "cell_type": "code",
   "execution_count": 11,
   "metadata": {
    "colab": {
     "base_uri": "https://localhost:8080/",
     "height": 343
    },
    "colab_type": "code",
    "id": "IpEnbM0qwbup",
    "outputId": "d41dc955-9b6d-4588-bff2-cac4017343f8"
   },
   "outputs": [
    {
     "data": {
      "text/html": [
       "<div>\n",
       "<style scoped>\n",
       "    .dataframe tbody tr th:only-of-type {\n",
       "        vertical-align: middle;\n",
       "    }\n",
       "\n",
       "    .dataframe tbody tr th {\n",
       "        vertical-align: top;\n",
       "    }\n",
       "\n",
       "    .dataframe thead th {\n",
       "        text-align: right;\n",
       "    }\n",
       "</style>\n",
       "<table border=\"1\" class=\"dataframe\">\n",
       "  <thead>\n",
       "    <tr style=\"text-align: right;\">\n",
       "      <th></th>\n",
       "      <th>patientId</th>\n",
       "      <th>x</th>\n",
       "      <th>y</th>\n",
       "      <th>width</th>\n",
       "      <th>height</th>\n",
       "      <th>Target</th>\n",
       "    </tr>\n",
       "  </thead>\n",
       "  <tbody>\n",
       "    <tr>\n",
       "      <th>0</th>\n",
       "      <td>0004cfab-14fd-4e49-80ba-63a80b6bddd6</td>\n",
       "      <td>NaN</td>\n",
       "      <td>NaN</td>\n",
       "      <td>NaN</td>\n",
       "      <td>NaN</td>\n",
       "      <td>0</td>\n",
       "    </tr>\n",
       "    <tr>\n",
       "      <th>1</th>\n",
       "      <td>00313ee0-9eaa-42f4-b0ab-c148ed3241cd</td>\n",
       "      <td>NaN</td>\n",
       "      <td>NaN</td>\n",
       "      <td>NaN</td>\n",
       "      <td>NaN</td>\n",
       "      <td>0</td>\n",
       "    </tr>\n",
       "    <tr>\n",
       "      <th>2</th>\n",
       "      <td>00322d4d-1c29-4943-afc9-b6754be640eb</td>\n",
       "      <td>NaN</td>\n",
       "      <td>NaN</td>\n",
       "      <td>NaN</td>\n",
       "      <td>NaN</td>\n",
       "      <td>0</td>\n",
       "    </tr>\n",
       "    <tr>\n",
       "      <th>3</th>\n",
       "      <td>003d8fa0-6bf1-40ed-b54c-ac657f8495c5</td>\n",
       "      <td>NaN</td>\n",
       "      <td>NaN</td>\n",
       "      <td>NaN</td>\n",
       "      <td>NaN</td>\n",
       "      <td>0</td>\n",
       "    </tr>\n",
       "    <tr>\n",
       "      <th>4</th>\n",
       "      <td>00436515-870c-4b36-a041-de91049b9ab4</td>\n",
       "      <td>264.0</td>\n",
       "      <td>152.0</td>\n",
       "      <td>213.0</td>\n",
       "      <td>379.0</td>\n",
       "      <td>1</td>\n",
       "    </tr>\n",
       "    <tr>\n",
       "      <th>5</th>\n",
       "      <td>00436515-870c-4b36-a041-de91049b9ab4</td>\n",
       "      <td>562.0</td>\n",
       "      <td>152.0</td>\n",
       "      <td>256.0</td>\n",
       "      <td>453.0</td>\n",
       "      <td>1</td>\n",
       "    </tr>\n",
       "    <tr>\n",
       "      <th>6</th>\n",
       "      <td>00569f44-917d-4c86-a842-81832af98c30</td>\n",
       "      <td>NaN</td>\n",
       "      <td>NaN</td>\n",
       "      <td>NaN</td>\n",
       "      <td>NaN</td>\n",
       "      <td>0</td>\n",
       "    </tr>\n",
       "    <tr>\n",
       "      <th>7</th>\n",
       "      <td>006cec2e-6ce2-4549-bffa-eadfcd1e9970</td>\n",
       "      <td>NaN</td>\n",
       "      <td>NaN</td>\n",
       "      <td>NaN</td>\n",
       "      <td>NaN</td>\n",
       "      <td>0</td>\n",
       "    </tr>\n",
       "    <tr>\n",
       "      <th>8</th>\n",
       "      <td>00704310-78a8-4b38-8475-49f4573b2dbb</td>\n",
       "      <td>323.0</td>\n",
       "      <td>577.0</td>\n",
       "      <td>160.0</td>\n",
       "      <td>104.0</td>\n",
       "      <td>1</td>\n",
       "    </tr>\n",
       "    <tr>\n",
       "      <th>9</th>\n",
       "      <td>00704310-78a8-4b38-8475-49f4573b2dbb</td>\n",
       "      <td>695.0</td>\n",
       "      <td>575.0</td>\n",
       "      <td>162.0</td>\n",
       "      <td>137.0</td>\n",
       "      <td>1</td>\n",
       "    </tr>\n",
       "  </tbody>\n",
       "</table>\n",
       "</div>"
      ],
      "text/plain": [
       "                              patientId      x      y  width  height  Target\n",
       "0  0004cfab-14fd-4e49-80ba-63a80b6bddd6    NaN    NaN    NaN     NaN       0\n",
       "1  00313ee0-9eaa-42f4-b0ab-c148ed3241cd    NaN    NaN    NaN     NaN       0\n",
       "2  00322d4d-1c29-4943-afc9-b6754be640eb    NaN    NaN    NaN     NaN       0\n",
       "3  003d8fa0-6bf1-40ed-b54c-ac657f8495c5    NaN    NaN    NaN     NaN       0\n",
       "4  00436515-870c-4b36-a041-de91049b9ab4  264.0  152.0  213.0   379.0       1\n",
       "5  00436515-870c-4b36-a041-de91049b9ab4  562.0  152.0  256.0   453.0       1\n",
       "6  00569f44-917d-4c86-a842-81832af98c30    NaN    NaN    NaN     NaN       0\n",
       "7  006cec2e-6ce2-4549-bffa-eadfcd1e9970    NaN    NaN    NaN     NaN       0\n",
       "8  00704310-78a8-4b38-8475-49f4573b2dbb  323.0  577.0  160.0   104.0       1\n",
       "9  00704310-78a8-4b38-8475-49f4573b2dbb  695.0  575.0  162.0   137.0       1"
      ]
     },
     "execution_count": 11,
     "metadata": {
      "tags": []
     },
     "output_type": "execute_result"
    }
   ],
   "source": [
    "#Cross check step to see data is loaded properly\n",
    "df_train.head(10)"
   ]
  },
  {
   "cell_type": "code",
   "execution_count": 0,
   "metadata": {
    "colab": {},
    "colab_type": "code",
    "collapsed": true,
    "id": "0Y43c5xMwbuv"
   },
   "outputs": [],
   "source": [
    "#replacind nan with 0\n",
    "df_train['x'] = df_train['x'].fillna(0)\n",
    "df_train['y'] = df_train['y'].fillna(0)\n",
    "df_train['width'] = df_train['width'].fillna(0)\n",
    "df_train['height'] = df_train['height'].fillna(0)"
   ]
  },
  {
   "cell_type": "code",
   "execution_count": 0,
   "metadata": {
    "colab": {},
    "colab_type": "code",
    "collapsed": true,
    "id": "jpKFw-RLwbu3"
   },
   "outputs": [],
   "source": [
    "#This step append \n",
    "path = \"/content/stage_2_train_images/\"\n",
    "colu=[]\n",
    "for i,j in enumerate(df_train['patientId']):\n",
    "    colu.append(os.path.join(path, df_train.iloc[i,0]))\n",
    "\n",
    "ext='.dcm'\n",
    "z=[]\n",
    "for i in colu:\n",
    "    k=i+ext\n",
    "    z.append(k)"
   ]
  },
  {
   "cell_type": "code",
   "execution_count": 14,
   "metadata": {
    "colab": {
     "base_uri": "https://localhost:8080/",
     "height": 343
    },
    "colab_type": "code",
    "id": "sgSEiH9iwbu8",
    "outputId": "431cc173-0ae4-490e-8e1f-3eae93596fd2"
   },
   "outputs": [
    {
     "data": {
      "text/html": [
       "<div>\n",
       "<style scoped>\n",
       "    .dataframe tbody tr th:only-of-type {\n",
       "        vertical-align: middle;\n",
       "    }\n",
       "\n",
       "    .dataframe tbody tr th {\n",
       "        vertical-align: top;\n",
       "    }\n",
       "\n",
       "    .dataframe thead th {\n",
       "        text-align: right;\n",
       "    }\n",
       "</style>\n",
       "<table border=\"1\" class=\"dataframe\">\n",
       "  <thead>\n",
       "    <tr style=\"text-align: right;\">\n",
       "      <th></th>\n",
       "      <th>patientId1</th>\n",
       "      <th>x</th>\n",
       "      <th>y</th>\n",
       "      <th>width</th>\n",
       "      <th>height</th>\n",
       "      <th>Target</th>\n",
       "    </tr>\n",
       "  </thead>\n",
       "  <tbody>\n",
       "    <tr>\n",
       "      <th>0</th>\n",
       "      <td>/content/stage_2_train_images/0004cfab-14fd-4e...</td>\n",
       "      <td>0.0</td>\n",
       "      <td>0.0</td>\n",
       "      <td>0.0</td>\n",
       "      <td>0.0</td>\n",
       "      <td>0</td>\n",
       "    </tr>\n",
       "    <tr>\n",
       "      <th>1</th>\n",
       "      <td>/content/stage_2_train_images/00313ee0-9eaa-42...</td>\n",
       "      <td>0.0</td>\n",
       "      <td>0.0</td>\n",
       "      <td>0.0</td>\n",
       "      <td>0.0</td>\n",
       "      <td>0</td>\n",
       "    </tr>\n",
       "    <tr>\n",
       "      <th>2</th>\n",
       "      <td>/content/stage_2_train_images/00322d4d-1c29-49...</td>\n",
       "      <td>0.0</td>\n",
       "      <td>0.0</td>\n",
       "      <td>0.0</td>\n",
       "      <td>0.0</td>\n",
       "      <td>0</td>\n",
       "    </tr>\n",
       "    <tr>\n",
       "      <th>3</th>\n",
       "      <td>/content/stage_2_train_images/003d8fa0-6bf1-40...</td>\n",
       "      <td>0.0</td>\n",
       "      <td>0.0</td>\n",
       "      <td>0.0</td>\n",
       "      <td>0.0</td>\n",
       "      <td>0</td>\n",
       "    </tr>\n",
       "    <tr>\n",
       "      <th>4</th>\n",
       "      <td>/content/stage_2_train_images/00436515-870c-4b...</td>\n",
       "      <td>264.0</td>\n",
       "      <td>152.0</td>\n",
       "      <td>213.0</td>\n",
       "      <td>379.0</td>\n",
       "      <td>1</td>\n",
       "    </tr>\n",
       "    <tr>\n",
       "      <th>5</th>\n",
       "      <td>/content/stage_2_train_images/00436515-870c-4b...</td>\n",
       "      <td>562.0</td>\n",
       "      <td>152.0</td>\n",
       "      <td>256.0</td>\n",
       "      <td>453.0</td>\n",
       "      <td>1</td>\n",
       "    </tr>\n",
       "    <tr>\n",
       "      <th>6</th>\n",
       "      <td>/content/stage_2_train_images/00569f44-917d-4c...</td>\n",
       "      <td>0.0</td>\n",
       "      <td>0.0</td>\n",
       "      <td>0.0</td>\n",
       "      <td>0.0</td>\n",
       "      <td>0</td>\n",
       "    </tr>\n",
       "    <tr>\n",
       "      <th>7</th>\n",
       "      <td>/content/stage_2_train_images/006cec2e-6ce2-45...</td>\n",
       "      <td>0.0</td>\n",
       "      <td>0.0</td>\n",
       "      <td>0.0</td>\n",
       "      <td>0.0</td>\n",
       "      <td>0</td>\n",
       "    </tr>\n",
       "    <tr>\n",
       "      <th>8</th>\n",
       "      <td>/content/stage_2_train_images/00704310-78a8-4b...</td>\n",
       "      <td>323.0</td>\n",
       "      <td>577.0</td>\n",
       "      <td>160.0</td>\n",
       "      <td>104.0</td>\n",
       "      <td>1</td>\n",
       "    </tr>\n",
       "    <tr>\n",
       "      <th>9</th>\n",
       "      <td>/content/stage_2_train_images/00704310-78a8-4b...</td>\n",
       "      <td>695.0</td>\n",
       "      <td>575.0</td>\n",
       "      <td>162.0</td>\n",
       "      <td>137.0</td>\n",
       "      <td>1</td>\n",
       "    </tr>\n",
       "  </tbody>\n",
       "</table>\n",
       "</div>"
      ],
      "text/plain": [
       "                                          patientId1      x  ...  height  Target\n",
       "0  /content/stage_2_train_images/0004cfab-14fd-4e...    0.0  ...     0.0       0\n",
       "1  /content/stage_2_train_images/00313ee0-9eaa-42...    0.0  ...     0.0       0\n",
       "2  /content/stage_2_train_images/00322d4d-1c29-49...    0.0  ...     0.0       0\n",
       "3  /content/stage_2_train_images/003d8fa0-6bf1-40...    0.0  ...     0.0       0\n",
       "4  /content/stage_2_train_images/00436515-870c-4b...  264.0  ...   379.0       1\n",
       "5  /content/stage_2_train_images/00436515-870c-4b...  562.0  ...   453.0       1\n",
       "6  /content/stage_2_train_images/00569f44-917d-4c...    0.0  ...     0.0       0\n",
       "7  /content/stage_2_train_images/006cec2e-6ce2-45...    0.0  ...     0.0       0\n",
       "8  /content/stage_2_train_images/00704310-78a8-4b...  323.0  ...   104.0       1\n",
       "9  /content/stage_2_train_images/00704310-78a8-4b...  695.0  ...   137.0       1\n",
       "\n",
       "[10 rows x 6 columns]"
      ]
     },
     "execution_count": 14,
     "metadata": {
      "tags": []
     },
     "output_type": "execute_result"
    }
   ],
   "source": [
    "colu=np.array(z)\n",
    "df_train['patientId1'] = pd.DataFrame(z)    \n",
    "df_train.drop([\"patientId\"], axis = 1, inplace = True)\n",
    "df_train=df_train[['patientId1','x','y','width','height','Target']]\n",
    "df_train.head(10)"
   ]
  },
  {
   "cell_type": "code",
   "execution_count": 15,
   "metadata": {
    "colab": {
     "base_uri": "https://localhost:8080/",
     "height": 34
    },
    "colab_type": "code",
    "id": "MzyxlaMJwbvC",
    "outputId": "7ef0b8b3-2d7b-47e7-a95f-ace1c29042ad"
   },
   "outputs": [
    {
     "name": "stdout",
     "output_type": "stream",
     "text": [
      "181 184 206 506\n"
     ]
    }
   ],
   "source": [
    "n=19\n",
    "x1 = int(df_train.iloc[n,1])\n",
    "y1 = int(df_train.iloc[n,2])\n",
    "wt = int(df_train.iloc[n,3])\n",
    "ht = int(df_train.iloc[n,4])\n",
    "print(x1,y1,wt,ht)"
   ]
  },
  {
   "cell_type": "markdown",
   "metadata": {
    "colab_type": "text",
    "id": "tMIaliyXuoPZ"
   },
   "source": [
    "#From here we have reduced data "
   ]
  },
  {
   "cell_type": "code",
   "execution_count": 16,
   "metadata": {
    "colab": {
     "base_uri": "https://localhost:8080/",
     "height": 195
    },
    "colab_type": "code",
    "id": "HpAedOxZwbvO",
    "outputId": "369278d3-326f-4103-db3b-bbb084fef593"
   },
   "outputs": [
    {
     "data": {
      "text/html": [
       "<div>\n",
       "<style scoped>\n",
       "    .dataframe tbody tr th:only-of-type {\n",
       "        vertical-align: middle;\n",
       "    }\n",
       "\n",
       "    .dataframe tbody tr th {\n",
       "        vertical-align: top;\n",
       "    }\n",
       "\n",
       "    .dataframe thead th {\n",
       "        text-align: right;\n",
       "    }\n",
       "</style>\n",
       "<table border=\"1\" class=\"dataframe\">\n",
       "  <thead>\n",
       "    <tr style=\"text-align: right;\">\n",
       "      <th></th>\n",
       "      <th>patientId1</th>\n",
       "      <th>x</th>\n",
       "      <th>y</th>\n",
       "      <th>width</th>\n",
       "      <th>height</th>\n",
       "      <th>Target</th>\n",
       "    </tr>\n",
       "  </thead>\n",
       "  <tbody>\n",
       "    <tr>\n",
       "      <th>4</th>\n",
       "      <td>/content/stage_2_train_images/00436515-870c-4b...</td>\n",
       "      <td>264.0</td>\n",
       "      <td>152.0</td>\n",
       "      <td>213.0</td>\n",
       "      <td>379.0</td>\n",
       "      <td>1</td>\n",
       "    </tr>\n",
       "    <tr>\n",
       "      <th>5</th>\n",
       "      <td>/content/stage_2_train_images/00436515-870c-4b...</td>\n",
       "      <td>562.0</td>\n",
       "      <td>152.0</td>\n",
       "      <td>256.0</td>\n",
       "      <td>453.0</td>\n",
       "      <td>1</td>\n",
       "    </tr>\n",
       "    <tr>\n",
       "      <th>8</th>\n",
       "      <td>/content/stage_2_train_images/00704310-78a8-4b...</td>\n",
       "      <td>323.0</td>\n",
       "      <td>577.0</td>\n",
       "      <td>160.0</td>\n",
       "      <td>104.0</td>\n",
       "      <td>1</td>\n",
       "    </tr>\n",
       "    <tr>\n",
       "      <th>9</th>\n",
       "      <td>/content/stage_2_train_images/00704310-78a8-4b...</td>\n",
       "      <td>695.0</td>\n",
       "      <td>575.0</td>\n",
       "      <td>162.0</td>\n",
       "      <td>137.0</td>\n",
       "      <td>1</td>\n",
       "    </tr>\n",
       "    <tr>\n",
       "      <th>14</th>\n",
       "      <td>/content/stage_2_train_images/00aecb01-a116-45...</td>\n",
       "      <td>288.0</td>\n",
       "      <td>322.0</td>\n",
       "      <td>94.0</td>\n",
       "      <td>135.0</td>\n",
       "      <td>1</td>\n",
       "    </tr>\n",
       "  </tbody>\n",
       "</table>\n",
       "</div>"
      ],
      "text/plain": [
       "                                           patientId1      x  ...  height  Target\n",
       "4   /content/stage_2_train_images/00436515-870c-4b...  264.0  ...   379.0       1\n",
       "5   /content/stage_2_train_images/00436515-870c-4b...  562.0  ...   453.0       1\n",
       "8   /content/stage_2_train_images/00704310-78a8-4b...  323.0  ...   104.0       1\n",
       "9   /content/stage_2_train_images/00704310-78a8-4b...  695.0  ...   137.0       1\n",
       "14  /content/stage_2_train_images/00aecb01-a116-45...  288.0  ...   135.0       1\n",
       "\n",
       "[5 rows x 6 columns]"
      ]
     },
     "execution_count": 16,
     "metadata": {
      "tags": []
     },
     "output_type": "execute_result"
    }
   ],
   "source": [
    "#selecting 1 cases and storing in new dataframe\n",
    "df=df_train[df_train['Target']==1]\n",
    "df.head()"
   ]
  },
  {
   "cell_type": "code",
   "execution_count": 17,
   "metadata": {
    "colab": {
     "base_uri": "https://localhost:8080/",
     "height": 195
    },
    "colab_type": "code",
    "id": "-putpX1SwbvU",
    "outputId": "096757e5-8b11-411e-b9c3-8c30798d46a1"
   },
   "outputs": [
    {
     "data": {
      "text/html": [
       "<div>\n",
       "<style scoped>\n",
       "    .dataframe tbody tr th:only-of-type {\n",
       "        vertical-align: middle;\n",
       "    }\n",
       "\n",
       "    .dataframe tbody tr th {\n",
       "        vertical-align: top;\n",
       "    }\n",
       "\n",
       "    .dataframe thead th {\n",
       "        text-align: right;\n",
       "    }\n",
       "</style>\n",
       "<table border=\"1\" class=\"dataframe\">\n",
       "  <thead>\n",
       "    <tr style=\"text-align: right;\">\n",
       "      <th></th>\n",
       "      <th>patientId1</th>\n",
       "      <th>x</th>\n",
       "      <th>y</th>\n",
       "      <th>width</th>\n",
       "      <th>height</th>\n",
       "      <th>Target</th>\n",
       "    </tr>\n",
       "  </thead>\n",
       "  <tbody>\n",
       "    <tr>\n",
       "      <th>0</th>\n",
       "      <td>/content/stage_2_train_images/0004cfab-14fd-4e...</td>\n",
       "      <td>0.0</td>\n",
       "      <td>0.0</td>\n",
       "      <td>0.0</td>\n",
       "      <td>0.0</td>\n",
       "      <td>0</td>\n",
       "    </tr>\n",
       "    <tr>\n",
       "      <th>1</th>\n",
       "      <td>/content/stage_2_train_images/00313ee0-9eaa-42...</td>\n",
       "      <td>0.0</td>\n",
       "      <td>0.0</td>\n",
       "      <td>0.0</td>\n",
       "      <td>0.0</td>\n",
       "      <td>0</td>\n",
       "    </tr>\n",
       "    <tr>\n",
       "      <th>2</th>\n",
       "      <td>/content/stage_2_train_images/00322d4d-1c29-49...</td>\n",
       "      <td>0.0</td>\n",
       "      <td>0.0</td>\n",
       "      <td>0.0</td>\n",
       "      <td>0.0</td>\n",
       "      <td>0</td>\n",
       "    </tr>\n",
       "    <tr>\n",
       "      <th>3</th>\n",
       "      <td>/content/stage_2_train_images/003d8fa0-6bf1-40...</td>\n",
       "      <td>0.0</td>\n",
       "      <td>0.0</td>\n",
       "      <td>0.0</td>\n",
       "      <td>0.0</td>\n",
       "      <td>0</td>\n",
       "    </tr>\n",
       "    <tr>\n",
       "      <th>6</th>\n",
       "      <td>/content/stage_2_train_images/00569f44-917d-4c...</td>\n",
       "      <td>0.0</td>\n",
       "      <td>0.0</td>\n",
       "      <td>0.0</td>\n",
       "      <td>0.0</td>\n",
       "      <td>0</td>\n",
       "    </tr>\n",
       "  </tbody>\n",
       "</table>\n",
       "</div>"
      ],
      "text/plain": [
       "                                          patientId1    x  ...  height  Target\n",
       "0  /content/stage_2_train_images/0004cfab-14fd-4e...  0.0  ...     0.0       0\n",
       "1  /content/stage_2_train_images/00313ee0-9eaa-42...  0.0  ...     0.0       0\n",
       "2  /content/stage_2_train_images/00322d4d-1c29-49...  0.0  ...     0.0       0\n",
       "3  /content/stage_2_train_images/003d8fa0-6bf1-40...  0.0  ...     0.0       0\n",
       "6  /content/stage_2_train_images/00569f44-917d-4c...  0.0  ...     0.0       0\n",
       "\n",
       "[5 rows x 6 columns]"
      ]
     },
     "execution_count": 17,
     "metadata": {
      "tags": []
     },
     "output_type": "execute_result"
    }
   ],
   "source": [
    "#selecting 0 cases and storing in new dataframe\n",
    "df2=df_train[df_train['Target']==0]\n",
    "df2.head()"
   ]
  },
  {
   "cell_type": "code",
   "execution_count": 0,
   "metadata": {
    "colab": {},
    "colab_type": "code",
    "collapsed": true,
    "id": "ZEulx-MCwbva"
   },
   "outputs": [],
   "source": [
    "#Selecting data based on slicing\n",
    "#Here we delebratelly choosing 1 to be little more as our main aim is to predict 1\n",
    "df=df.iloc[0:5700,:]\n",
    "df2=df2.iloc[0:4300,:]"
   ]
  },
  {
   "cell_type": "code",
   "execution_count": 0,
   "metadata": {
    "colab": {},
    "colab_type": "code",
    "collapsed": true,
    "id": "53ZSU5Opwbvf"
   },
   "outputs": [],
   "source": [
    "#appending data df3 to df2\n",
    "#now df3 is my final reduced dataset used for model\n",
    "df3 = df.append(df2)"
   ]
  },
  {
   "cell_type": "code",
   "execution_count": 20,
   "metadata": {
    "colab": {
     "base_uri": "https://localhost:8080/",
     "height": 343
    },
    "colab_type": "code",
    "id": "QF3Qlnt_wbvk",
    "outputId": "4e49ac5e-e5fa-42f7-e25f-29df6f86c3aa"
   },
   "outputs": [
    {
     "data": {
      "text/html": [
       "<div>\n",
       "<style scoped>\n",
       "    .dataframe tbody tr th:only-of-type {\n",
       "        vertical-align: middle;\n",
       "    }\n",
       "\n",
       "    .dataframe tbody tr th {\n",
       "        vertical-align: top;\n",
       "    }\n",
       "\n",
       "    .dataframe thead th {\n",
       "        text-align: right;\n",
       "    }\n",
       "</style>\n",
       "<table border=\"1\" class=\"dataframe\">\n",
       "  <thead>\n",
       "    <tr style=\"text-align: right;\">\n",
       "      <th></th>\n",
       "      <th>patientId1</th>\n",
       "      <th>x</th>\n",
       "      <th>y</th>\n",
       "      <th>width</th>\n",
       "      <th>height</th>\n",
       "      <th>Target</th>\n",
       "    </tr>\n",
       "  </thead>\n",
       "  <tbody>\n",
       "    <tr>\n",
       "      <th>4</th>\n",
       "      <td>/content/stage_2_train_images/00436515-870c-4b...</td>\n",
       "      <td>264.0</td>\n",
       "      <td>152.0</td>\n",
       "      <td>213.0</td>\n",
       "      <td>379.0</td>\n",
       "      <td>1</td>\n",
       "    </tr>\n",
       "    <tr>\n",
       "      <th>5</th>\n",
       "      <td>/content/stage_2_train_images/00436515-870c-4b...</td>\n",
       "      <td>562.0</td>\n",
       "      <td>152.0</td>\n",
       "      <td>256.0</td>\n",
       "      <td>453.0</td>\n",
       "      <td>1</td>\n",
       "    </tr>\n",
       "    <tr>\n",
       "      <th>8</th>\n",
       "      <td>/content/stage_2_train_images/00704310-78a8-4b...</td>\n",
       "      <td>323.0</td>\n",
       "      <td>577.0</td>\n",
       "      <td>160.0</td>\n",
       "      <td>104.0</td>\n",
       "      <td>1</td>\n",
       "    </tr>\n",
       "    <tr>\n",
       "      <th>9</th>\n",
       "      <td>/content/stage_2_train_images/00704310-78a8-4b...</td>\n",
       "      <td>695.0</td>\n",
       "      <td>575.0</td>\n",
       "      <td>162.0</td>\n",
       "      <td>137.0</td>\n",
       "      <td>1</td>\n",
       "    </tr>\n",
       "    <tr>\n",
       "      <th>14</th>\n",
       "      <td>/content/stage_2_train_images/00aecb01-a116-45...</td>\n",
       "      <td>288.0</td>\n",
       "      <td>322.0</td>\n",
       "      <td>94.0</td>\n",
       "      <td>135.0</td>\n",
       "      <td>1</td>\n",
       "    </tr>\n",
       "    <tr>\n",
       "      <th>15</th>\n",
       "      <td>/content/stage_2_train_images/00aecb01-a116-45...</td>\n",
       "      <td>547.0</td>\n",
       "      <td>299.0</td>\n",
       "      <td>119.0</td>\n",
       "      <td>165.0</td>\n",
       "      <td>1</td>\n",
       "    </tr>\n",
       "    <tr>\n",
       "      <th>16</th>\n",
       "      <td>/content/stage_2_train_images/00c0b293-48e7-4e...</td>\n",
       "      <td>306.0</td>\n",
       "      <td>544.0</td>\n",
       "      <td>168.0</td>\n",
       "      <td>244.0</td>\n",
       "      <td>1</td>\n",
       "    </tr>\n",
       "    <tr>\n",
       "      <th>17</th>\n",
       "      <td>/content/stage_2_train_images/00c0b293-48e7-4e...</td>\n",
       "      <td>650.0</td>\n",
       "      <td>511.0</td>\n",
       "      <td>206.0</td>\n",
       "      <td>284.0</td>\n",
       "      <td>1</td>\n",
       "    </tr>\n",
       "    <tr>\n",
       "      <th>19</th>\n",
       "      <td>/content/stage_2_train_images/00f08de1-517e-46...</td>\n",
       "      <td>181.0</td>\n",
       "      <td>184.0</td>\n",
       "      <td>206.0</td>\n",
       "      <td>506.0</td>\n",
       "      <td>1</td>\n",
       "    </tr>\n",
       "    <tr>\n",
       "      <th>20</th>\n",
       "      <td>/content/stage_2_train_images/00f08de1-517e-46...</td>\n",
       "      <td>571.0</td>\n",
       "      <td>275.0</td>\n",
       "      <td>230.0</td>\n",
       "      <td>476.0</td>\n",
       "      <td>1</td>\n",
       "    </tr>\n",
       "  </tbody>\n",
       "</table>\n",
       "</div>"
      ],
      "text/plain": [
       "                                           patientId1      x  ...  height  Target\n",
       "4   /content/stage_2_train_images/00436515-870c-4b...  264.0  ...   379.0       1\n",
       "5   /content/stage_2_train_images/00436515-870c-4b...  562.0  ...   453.0       1\n",
       "8   /content/stage_2_train_images/00704310-78a8-4b...  323.0  ...   104.0       1\n",
       "9   /content/stage_2_train_images/00704310-78a8-4b...  695.0  ...   137.0       1\n",
       "14  /content/stage_2_train_images/00aecb01-a116-45...  288.0  ...   135.0       1\n",
       "15  /content/stage_2_train_images/00aecb01-a116-45...  547.0  ...   165.0       1\n",
       "16  /content/stage_2_train_images/00c0b293-48e7-4e...  306.0  ...   244.0       1\n",
       "17  /content/stage_2_train_images/00c0b293-48e7-4e...  650.0  ...   284.0       1\n",
       "19  /content/stage_2_train_images/00f08de1-517e-46...  181.0  ...   506.0       1\n",
       "20  /content/stage_2_train_images/00f08de1-517e-46...  571.0  ...   476.0       1\n",
       "\n",
       "[10 rows x 6 columns]"
      ]
     },
     "execution_count": 20,
     "metadata": {
      "tags": []
     },
     "output_type": "execute_result"
    }
   ],
   "source": [
    "df3.head(10)"
   ]
  },
  {
   "cell_type": "code",
   "execution_count": 0,
   "metadata": {
    "colab": {},
    "colab_type": "code",
    "collapsed": true,
    "id": "xPy9LITRwbvp"
   },
   "outputs": [],
   "source": [
    "#random shuffle 20 times\n",
    "for _ in range(20):\n",
    "    df3 = shuffle(df3)"
   ]
  },
  {
   "cell_type": "code",
   "execution_count": 22,
   "metadata": {
    "colab": {
     "base_uri": "https://localhost:8080/",
     "height": 34
    },
    "colab_type": "code",
    "id": "ESEU-573wbvw",
    "outputId": "46289485-c558-4f17-d052-c98273d48953"
   },
   "outputs": [
    {
     "name": "stdout",
     "output_type": "stream",
     "text": [
      "(1024, 1024)\n"
     ]
    }
   ],
   "source": [
    "#Resizing image to 228*228\n",
    "IMAGE_HEIGHT = 228\n",
    "IMAGE_WIDTH = 228\n",
    "num=10000\n",
    "X_train=0\n",
    "X_train = np.zeros((num, IMAGE_HEIGHT, IMAGE_WIDTH))\n",
    "for index in range(num):\n",
    "    img = pydicom.read_file(df3.iloc[index,0])\n",
    "    img = img.pixel_array\n",
    "    if index==3:\n",
    "        print(img.shape)\n",
    "    img = cv2.resize(img, dsize=(IMAGE_HEIGHT, IMAGE_WIDTH), interpolation=cv2.INTER_CUBIC)\n",
    "    #print(img)\n",
    "    X_train[index] = img\n",
    "    "
   ]
  },
  {
   "cell_type": "code",
   "execution_count": 23,
   "metadata": {
    "colab": {
     "base_uri": "https://localhost:8080/",
     "height": 34
    },
    "colab_type": "code",
    "id": "WxYROetFwbv1",
    "outputId": "e34178e9-32f2-4c6d-b8f9-13c1c1ac4bf9"
   },
   "outputs": [
    {
     "data": {
      "text/plain": [
       "(10000, 228, 228)"
      ]
     },
     "execution_count": 23,
     "metadata": {
      "tags": []
     },
     "output_type": "execute_result"
    }
   ],
   "source": [
    "X_train.shape"
   ]
  },
  {
   "cell_type": "code",
   "execution_count": 24,
   "metadata": {
    "colab": {
     "base_uri": "https://localhost:8080/",
     "height": 403
    },
    "colab_type": "code",
    "id": "aKqWaGIXwbv4",
    "outputId": "19cc4da0-a1c1-40d0-f8cb-9225d2517bab"
   },
   "outputs": [
    {
     "name": "stdout",
     "output_type": "stream",
     "text": [
      "[[157. 112.  23. ...   6.   6.   6.]\n",
      " [144.  71.   7. ...   6.   6.   6.]\n",
      " [134.  65.   8. ...   6.   6.   6.]\n",
      " ...\n",
      " [168. 115.  19. ...   6.   6.   6.]\n",
      " [176. 119.  24. ...   8.   8.   6.]\n",
      " [185. 125.  44. ...  23.  23.  27.]]\n"
     ]
    },
    {
     "data": {
      "text/plain": [
       "<matplotlib.image.AxesImage at 0x7f367fe4dd30>"
      ]
     },
     "execution_count": 24,
     "metadata": {
      "tags": []
     },
     "output_type": "execute_result"
    },
    {
     "data": {
      "image/png": "[encoded data removed]",
      "text/plain": [
       "<Figure size 432x288 with 1 Axes>"
      ]
     },
     "metadata": {
      "tags": []
     },
     "output_type": "display_data"
    }
   ],
   "source": [
    "n = 10\n",
    "print(X_train[n])\n",
    "plt.imshow(X_train[n], cmap=plt.cm.gray)"
   ]
  },
  {
   "cell_type": "code",
   "execution_count": 25,
   "metadata": {
    "colab": {
     "base_uri": "https://localhost:8080/",
     "height": 286
    },
    "colab_type": "code",
    "id": "Yy4VhqjMwbv6",
    "outputId": "9db018eb-f711-4879-9071-3bff9be4b870"
   },
   "outputs": [
    {
     "data": {
      "text/plain": [
       "<matplotlib.image.AxesImage at 0x7f367fbd3ba8>"
      ]
     },
     "execution_count": 25,
     "metadata": {
      "tags": []
     },
     "output_type": "execute_result"
    },
    {
     "data": {
      "image/png": "[encoded data removed]",
      "text/plain": [
       "<Figure size 432x288 with 1 Axes>"
      ]
     },
     "metadata": {
      "tags": []
     },
     "output_type": "display_data"
    }
   ],
   "source": [
    "img = pydicom.read_file(df3.iloc[10,0])\n",
    "img = img.pixel_array\n",
    "plt.imshow(img, cmap=plt.cm.gray)"
   ]
  },
  {
   "cell_type": "code",
   "execution_count": 0,
   "metadata": {
    "colab": {},
    "colab_type": "code",
    "collapsed": true,
    "id": "CzgVdLbowbv9"
   },
   "outputs": [],
   "source": [
    "#converting bound box to \n",
    "coords = np.zeros((int(num), 4), dtype=int)\n",
    "for index in range(num):\n",
    "    coords[index,0] = df3.iloc[index,1] * 228 / 1024\n",
    "    coords[index,1] = df3.iloc[index,2] * 228 / 1024\n",
    "    coords[index,2] = df3.iloc[index,3] * 228 / 1024\n",
    "    coords[index,3] = df3.iloc[index,4] * 228 / 1024\n",
    "    "
   ]
  },
  {
   "cell_type": "code",
   "execution_count": 27,
   "metadata": {
    "colab": {
     "base_uri": "https://localhost:8080/",
     "height": 185
    },
    "colab_type": "code",
    "id": "QcyLFkeOwbwA",
    "outputId": "dd6ecc19-7561-4918-dd5e-6adc6e0a44d3"
   },
   "outputs": [
    {
     "name": "stdout",
     "output_type": "stream",
     "text": [
      "263.0\n",
      "455.0\n",
      "126.0\n",
      "184.0\n",
      "\n",
      "\n",
      "58\n",
      "101\n",
      "28\n",
      "40\n"
     ]
    }
   ],
   "source": [
    "#Cross check random image bound box\n",
    "n=5\n",
    "\n",
    "print(df3.iloc[n,1])\n",
    "print(df3.iloc[n,2])\n",
    "print(df3.iloc[n,3])\n",
    "print(df3.iloc[n,4])\n",
    "\n",
    "print('\\n')\n",
    "print(coords[n,0])\n",
    "print(coords[n,1])\n",
    "print(coords[n,2])\n",
    "print(coords[n,3])"
   ]
  },
  {
   "cell_type": "code",
   "execution_count": 0,
   "metadata": {
    "colab": {},
    "colab_type": "code",
    "collapsed": true,
    "id": "N5eBgnNMwbwD"
   },
   "outputs": [],
   "source": [
    "#Selecting y label based\n",
    "y_train=df3.iloc[0:num,-1].values"
   ]
  },
  {
   "cell_type": "code",
   "execution_count": 29,
   "metadata": {
    "colab": {
     "base_uri": "https://localhost:8080/",
     "height": 67
    },
    "colab_type": "code",
    "id": "r9xh5LQ8wbwG",
    "outputId": "f66fe66c-c12b-465c-dfb3-45bfe2fc3ce2"
   },
   "outputs": [
    {
     "name": "stdout",
     "output_type": "stream",
     "text": [
      "(10000,)\n",
      "(10000, 228, 228)\n",
      "(10000, 4)\n"
     ]
    }
   ],
   "source": [
    "print(y_train.shape)\n",
    "print(X_train.shape)\n",
    "print(coords.shape)"
   ]
  },
  {
   "cell_type": "code",
   "execution_count": 30,
   "metadata": {
    "colab": {
     "base_uri": "https://localhost:8080/",
     "height": 34
    },
    "colab_type": "code",
    "id": "jAge0RE7wbwL",
    "outputId": "01271290-35c3-4e45-ebd5-052fe08ea912"
   },
   "outputs": [
    {
     "data": {
      "text/plain": [
       "0"
      ]
     },
     "execution_count": 30,
     "metadata": {
      "tags": []
     },
     "output_type": "execute_result"
    }
   ],
   "source": [
    "y_train[1]"
   ]
  },
  {
   "cell_type": "code",
   "execution_count": 31,
   "metadata": {
    "colab": {
     "base_uri": "https://localhost:8080/",
     "height": 34
    },
    "colab_type": "code",
    "id": "BB4QnKTewbwO",
    "outputId": "09430ea7-12ce-4dc6-e427-cdd83e177a7c"
   },
   "outputs": [
    {
     "data": {
      "text/plain": [
       "(10000, 228, 228, 1)"
      ]
     },
     "execution_count": 31,
     "metadata": {
      "tags": []
     },
     "output_type": "execute_result"
    }
   ],
   "source": [
    "#reshape the image\n",
    "X_train1 = X_train.reshape(X_train.shape[0], 228, 228, 1)\n",
    "X_train1.shape"
   ]
  },
  {
   "cell_type": "code",
   "execution_count": 32,
   "metadata": {
    "colab": {
     "base_uri": "https://localhost:8080/",
     "height": 34
    },
    "colab_type": "code",
    "id": "POXolgyIwbwQ",
    "outputId": "181724e5-d4ff-49fb-ef0a-0e14a734e03e"
   },
   "outputs": [
    {
     "name": "stdout",
     "output_type": "stream",
     "text": [
      "x_train shape: (10000, 228, 228, 1)\n"
     ]
    }
   ],
   "source": [
    "#Normalizing the image\n",
    "X_train1 = X_train1.astype('float32')\n",
    "\n",
    "#Normalizing the input\n",
    "X_train1 /= 255.0\n",
    "print('x_train shape:', X_train1.shape)\n"
   ]
  },
  {
   "cell_type": "code",
   "execution_count": 33,
   "metadata": {
    "colab": {
     "base_uri": "https://localhost:8080/",
     "height": 286
    },
    "colab_type": "code",
    "id": "YyNJ9VOzwbwU",
    "outputId": "73559431-284a-4ac4-d1be-205d61a19863"
   },
   "outputs": [
    {
     "data": {
      "image/png": "[encoded data removed]",
      "text/plain": [
       "<Figure size 432x288 with 1 Axes>"
      ]
     },
     "metadata": {
      "tags": []
     },
     "output_type": "display_data"
    },
    {
     "name": "stdout",
     "output_type": "stream",
     "text": [
      "1\n"
     ]
    }
   ],
   "source": [
    "#plotting a image with bound box and print label\n",
    "n=151\n",
    "# Create figure and axes\n",
    "fig,ax = plt.subplots(1)\n",
    "\n",
    "# Display the image\n",
    "ax.imshow(X_train1[n].reshape(228,228), cmap=plt.cm.gray)\n",
    "\n",
    "# Create a Rectangle patch\n",
    "rect = patches.Rectangle((coords[n,0], coords[n,0]), (coords[n,2]) , (coords[n,3]) , linewidth=2, edgecolor='r', facecolor='none')\n",
    "\n",
    "# Add the patch to the Axes\n",
    "ax.add_patch(rect)\n",
    "\n",
    "plt.show()\n",
    "\n",
    "\n",
    "print(y_train[n])"
   ]
  },
  {
   "cell_type": "code",
   "execution_count": 0,
   "metadata": {
    "colab": {},
    "colab_type": "code",
    "collapsed": true,
    "id": "vVjpHbfZwbwY"
   },
   "outputs": [],
   "source": [
    "#Splitting data into train,test and validation set\n",
    "X_train, X_test1, y_train, y_test1 = train_test_split(X_train1, y_train, test_size=0.37, random_state=42)\n",
    "X_val, X_test, y_val, y_test = train_test_split(X_test1, y_test1, test_size=0.27, random_state=42)"
   ]
  },
  {
   "cell_type": "code",
   "execution_count": 35,
   "metadata": {
    "colab": {
     "base_uri": "https://localhost:8080/",
     "height": 151
    },
    "colab_type": "code",
    "id": "NS1Ksx70wbwc",
    "outputId": "48c26379-2210-41a5-c920-407d3a975f8c"
   },
   "outputs": [
    {
     "name": "stdout",
     "output_type": "stream",
     "text": [
      "(6300, 228, 228, 1)\n",
      "(2700, 228, 228, 1)\n",
      "(1000, 228, 228, 1)\n",
      "\n",
      "\n",
      "(6300,)\n",
      "(2700,)\n",
      "(1000,)\n"
     ]
    }
   ],
   "source": [
    "#cross check step for checking shape of final data\n",
    "print(X_train.shape)\n",
    "print(X_val.shape)\n",
    "print(X_test.shape)\n",
    "\n",
    "print(\"\\n\")\n",
    "print(y_train.shape)\n",
    "print(y_val.shape)\n",
    "print(y_test.shape)"
   ]
  },
  {
   "cell_type": "markdown",
   "metadata": {
    "colab_type": "text",
    "id": "mNwpO_JPwbwj"
   },
   "source": [
    "## Basic CNN Model"
   ]
  },
  {
   "cell_type": "code",
   "execution_count": 0,
   "metadata": {
    "colab": {},
    "colab_type": "code",
    "collapsed": true,
    "id": "TqlVgmAoqP_W"
   },
   "outputs": [],
   "source": [
    "#Defining image size\n",
    "IMAGE_HEIGHT = 228\n",
    "IMAGE_WIDTH = 228"
   ]
  },
  {
   "cell_type": "code",
   "execution_count": 46,
   "metadata": {
    "colab": {
     "base_uri": "https://localhost:8080/",
     "height": 856
    },
    "colab_type": "code",
    "id": "NJfe__9sqGHe",
    "outputId": "4d9be0f5-04eb-44e1-d5f4-29849092dbef"
   },
   "outputs": [
    {
     "name": "stdout",
     "output_type": "stream",
     "text": [
      "Model: \"sequential_1\"\n",
      "_________________________________________________________________\n",
      "Layer (type)                 Output Shape              Param #   \n",
      "=================================================================\n",
      "conv2d_5 (Conv2D)            (None, 226, 226, 128)     1280      \n",
      "_________________________________________________________________\n",
      "conv2d_6 (Conv2D)            (None, 224, 224, 64)      73792     \n",
      "_________________________________________________________________\n",
      "max_pooling2d_4 (MaxPooling2 (None, 112, 112, 64)      0         \n",
      "_________________________________________________________________\n",
      "conv2d_7 (Conv2D)            (None, 108, 108, 32)      51232     \n",
      "_________________________________________________________________\n",
      "max_pooling2d_5 (MaxPooling2 (None, 54, 54, 32)        0         \n",
      "_________________________________________________________________\n",
      "conv2d_8 (Conv2D)            (None, 52, 52, 16)        4624      \n",
      "_________________________________________________________________\n",
      "max_pooling2d_6 (MaxPooling2 (None, 26, 26, 16)        0         \n",
      "_________________________________________________________________\n",
      "conv2d_9 (Conv2D)            (None, 23, 23, 8)         2056      \n",
      "_________________________________________________________________\n",
      "max_pooling2d_7 (MaxPooling2 (None, 7, 7, 8)           0         \n",
      "_________________________________________________________________\n",
      "flatten_1 (Flatten)          (None, 392)               0         \n",
      "_________________________________________________________________\n",
      "batch_normalization_4 (Batch (None, 392)               1568      \n",
      "_________________________________________________________________\n",
      "dense_4 (Dense)              (None, 64)                25152     \n",
      "_________________________________________________________________\n",
      "dropout_3 (Dropout)          (None, 64)                0         \n",
      "_________________________________________________________________\n",
      "batch_normalization_5 (Batch (None, 64)                256       \n",
      "_________________________________________________________________\n",
      "dense_5 (Dense)              (None, 16)                1040      \n",
      "_________________________________________________________________\n",
      "dropout_4 (Dropout)          (None, 16)                0         \n",
      "_________________________________________________________________\n",
      "batch_normalization_6 (Batch (None, 16)                64        \n",
      "_________________________________________________________________\n",
      "dense_6 (Dense)              (None, 4)                 68        \n",
      "_________________________________________________________________\n",
      "dropout_5 (Dropout)          (None, 4)                 0         \n",
      "_________________________________________________________________\n",
      "batch_normalization_7 (Batch (None, 4)                 16        \n",
      "_________________________________________________________________\n",
      "dense_7 (Dense)              (None, 1)                 5         \n",
      "=================================================================\n",
      "Total params: 161,153\n",
      "Trainable params: 160,201\n",
      "Non-trainable params: 952\n",
      "_________________________________________________________________\n"
     ]
    }
   ],
   "source": [
    "#Model building\n",
    "shape_input = (IMAGE_HEIGHT,IMAGE_WIDTH,1)\n",
    "model = Sequential()\n",
    "model.add(Conv2D(128,kernel_size=(3,3),activation='relu',input_shape=shape_input))\n",
    "model.add(Conv2D(64,kernel_size=(3,3),activation='relu'))\n",
    "model.add(MaxPooling2D(pool_size=(2,2)))\n",
    "model.add(Conv2D(32,kernel_size=(5,5),activation='relu'))\n",
    "model.add(MaxPooling2D(pool_size=(2,2)))\n",
    "model.add(Conv2D(16,kernel_size=(3,3),activation='relu'))\n",
    "model.add(MaxPooling2D(pool_size=(2,2)))\n",
    "model.add(Conv2D(8,kernel_size=(4,4),activation='relu'))\n",
    "model.add(MaxPooling2D(pool_size=(3,3)))\n",
    "model.add(Flatten())\n",
    "model.add(BatchNormalization())\n",
    "model.add(Dense(64, activation='relu'))\n",
    "model.add(Dropout(0.3))\n",
    "model.add(BatchNormalization())\n",
    "model.add(Dense(16, activation='relu'))\n",
    "model.add(Dropout(0.2))\n",
    "model.add(BatchNormalization())\n",
    "model.add(Dense(4, activation='relu'))\n",
    "model.add(Dropout(0.1))\n",
    "model.add(BatchNormalization())\n",
    "model.add(Dense(1, activation='sigmoid'))\n",
    "#sgd_optimizer = tf.keras.optimizers.SGD(learning_rate=0.01,momentum=0.03)\n",
    "sgd_optimizer = tf.keras.optimizers.Adam(learning_rate=0.001)\n",
    "model.compile(optimizer=sgd_optimizer, loss='binary_crossentropy', metrics=['accuracy'])\n",
    "model.summary()"
   ]
  },
  {
   "cell_type": "code",
   "execution_count": 47,
   "metadata": {
    "colab": {
     "base_uri": "https://localhost:8080/",
     "height": 436
    },
    "colab_type": "code",
    "id": "HGfdRdFeqGYC",
    "outputId": "b8409daf-dd30-464c-de26-13bf9eb08807"
   },
   "outputs": [
    {
     "name": "stdout",
     "output_type": "stream",
     "text": [
      "Epoch 1/10\n",
      "90/90 [==============================] - ETA: 0s - loss: 0.6052 - accuracy: 0.6751INFO:tensorflow:Assets written to: /content/drive/My Drive/Colab Notebooks/Capstone Project/model_cnn_checkpoint/assets\n",
      "90/90 [==============================] - 130s 1s/step - loss: 0.6052 - accuracy: 0.6751 - val_loss: 0.6273 - val_accuracy: 0.6696\n",
      "Epoch 2/10\n",
      "90/90 [==============================] - ETA: 0s - loss: 0.5381 - accuracy: 0.7394INFO:tensorflow:Assets written to: /content/drive/My Drive/Colab Notebooks/Capstone Project/model_cnn_checkpoint/assets\n",
      "90/90 [==============================] - 130s 1s/step - loss: 0.5381 - accuracy: 0.7394 - val_loss: 0.5723 - val_accuracy: 0.7296\n",
      "Epoch 3/10\n",
      "90/90 [==============================] - 127s 1s/step - loss: 0.5255 - accuracy: 0.7525 - val_loss: 0.5428 - val_accuracy: 0.7226\n",
      "Epoch 4/10\n",
      "90/90 [==============================] - 127s 1s/step - loss: 0.5182 - accuracy: 0.7590 - val_loss: 0.9939 - val_accuracy: 0.4589\n",
      "Epoch 5/10\n",
      "90/90 [==============================] - ETA: 0s - loss: 0.5140 - accuracy: 0.7581INFO:tensorflow:Assets written to: /content/drive/My Drive/Colab Notebooks/Capstone Project/model_cnn_checkpoint/assets\n",
      "90/90 [==============================] - 131s 1s/step - loss: 0.5140 - accuracy: 0.7581 - val_loss: 0.5334 - val_accuracy: 0.7393\n",
      "Epoch 6/10\n",
      "90/90 [==============================] - ETA: 0s - loss: 0.5036 - accuracy: 0.7684INFO:tensorflow:Assets written to: /content/drive/My Drive/Colab Notebooks/Capstone Project/model_cnn_checkpoint/assets\n",
      "90/90 [==============================] - 130s 1s/step - loss: 0.5036 - accuracy: 0.7684 - val_loss: 0.5275 - val_accuracy: 0.7604\n",
      "Epoch 7/10\n",
      "90/90 [==============================] - ETA: 0s - loss: 0.4935 - accuracy: 0.7740INFO:tensorflow:Assets written to: /content/drive/My Drive/Colab Notebooks/Capstone Project/model_cnn_checkpoint/assets\n",
      "90/90 [==============================] - 130s 1s/step - loss: 0.4935 - accuracy: 0.7740 - val_loss: 0.4957 - val_accuracy: 0.7615\n",
      "Epoch 8/10\n",
      "90/90 [==============================] - 127s 1s/step - loss: 0.4905 - accuracy: 0.7727 - val_loss: 0.5233 - val_accuracy: 0.7526\n",
      "Epoch 9/10\n",
      "90/90 [==============================] - 127s 1s/step - loss: 0.4859 - accuracy: 0.7721 - val_loss: 0.7049 - val_accuracy: 0.5078\n",
      "Epoch 10/10\n",
      "90/90 [==============================] - 126s 1s/step - loss: 0.4802 - accuracy: 0.7816 - val_loss: 0.5712 - val_accuracy: 0.7378\n"
     ]
    }
   ],
   "source": [
    "#defining call backs\n",
    "early_stopping_monitor = EarlyStopping(\n",
    "    monitor='val_loss',\n",
    "    min_delta=0,\n",
    "    patience=4,\n",
    "    verbose=0,\n",
    "    mode='auto',\n",
    "    baseline=None,\n",
    "    restore_best_weights=True\n",
    ")\n",
    "model_check=ModelCheckpoint(\n",
    "    filepath='/content/drive/My Drive/Colab Notebooks/Capstone Project/model_cnn_checkpoint',\n",
    "    monitor='val_accuracy',\n",
    "    mode='max',\n",
    "    save_best_only=True\n",
    "    )\n",
    "history=model.fit(X_train,y_train,\n",
    "          validation_data=(X_val,y_val),\n",
    "          callbacks=[early_stopping_monitor,model_check],\n",
    "          epochs=10,\n",
    "          batch_size=70)\n",
    "          #steps_per_epoch=50)"
   ]
  },
  {
   "cell_type": "code",
   "execution_count": 48,
   "metadata": {
    "colab": {
     "base_uri": "https://localhost:8080/",
     "height": 386
    },
    "colab_type": "code",
    "id": "vtXNoIgkqGvQ",
    "outputId": "c37f9997-f903-4d6e-c27a-63d84a7d8331"
   },
   "outputs": [
    {
     "name": "stdout",
     "output_type": "stream",
     "text": [
      "Confusion Matrix:\n",
      " [[191 230]\n",
      " [ 41 538]] \n",
      "\n",
      "Classification Report:\n",
      "               precision    recall  f1-score   support\n",
      "\n",
      "           0       0.82      0.45      0.58       421\n",
      "           1       0.70      0.93      0.80       579\n",
      "\n",
      "    accuracy                           0.73      1000\n",
      "   macro avg       0.76      0.69      0.69      1000\n",
      "weighted avg       0.75      0.73      0.71      1000\n",
      " \n",
      "\n",
      "Accuracy Score:\n",
      " 0.729 \n",
      "\n",
      "Model Evaluation Loss :\n",
      " 0.576711893081665\n",
      "Model Evaluation Accuracy :\n",
      " 0.7289999723434448\n"
     ]
    }
   ],
   "source": [
    "#Confusion Matrix\n",
    "y_pred=(model.predict(X_test) > 0.5).astype(\"int32\")\n",
    "print('Confusion Matrix:\\n',confusion_matrix(y_test,y_pred),'\\n')\n",
    "print('Classification Report:\\n',classification_report(y_test,y_pred),'\\n')\n",
    "print('Accuracy Score:\\n',accuracy_score(y_test,y_pred),'\\n')\n",
    "eval=model.evaluate(X_test,y_test,verbose=0)\n",
    "print('Model Evaluation Loss :\\n',eval[0])\n",
    "print('Model Evaluation Accuracy :\\n',eval[1])"
   ]
  },
  {
   "cell_type": "code",
   "execution_count": 49,
   "metadata": {
    "colab": {
     "base_uri": "https://localhost:8080/",
     "height": 316
    },
    "colab_type": "code",
    "id": "JILKvvBDqG23",
    "outputId": "4398e112-1fdd-4aab-b820-cab002ac1d99"
   },
   "outputs": [
    {
     "data": {
      "text/plain": [
       "<matplotlib.legend.Legend at 0x7f3623535cc0>"
      ]
     },
     "execution_count": 49,
     "metadata": {
      "tags": []
     },
     "output_type": "execute_result"
    },
    {
     "data": {
      "image/png": "[encoded data removed]",
      "text/plain": [
       "<Figure size 432x288 with 1 Axes>"
      ]
     },
     "metadata": {
      "tags": []
     },
     "output_type": "display_data"
    }
   ],
   "source": [
    "style.use('ggplot')\n",
    "plt.plot(history.history['accuracy'],label='model accuracy')\n",
    "plt.plot(history.history['val_accuracy'],label='validation accuracy')\n",
    "plt.plot(history.history['loss'],label='loss')\n",
    "plt.title('Basic model accuracy')\n",
    "plt.ylabel('accuracy')\n",
    "plt.xlabel('epoch')\n",
    "plt.legend()"
   ]
  },
  {
   "cell_type": "markdown",
   "metadata": {
    "colab_type": "text",
    "id": "v7cYCvv4kXCx"
   },
   "source": [
    "Improvised CNN model"
   ]
  },
  {
   "cell_type": "code",
   "execution_count": 0,
   "metadata": {
    "colab": {},
    "colab_type": "code",
    "collapsed": true,
    "id": "Uqzmr_yZwbwk"
   },
   "outputs": [],
   "source": [
    "input_shape = (228, 228, 1)"
   ]
  },
  {
   "cell_type": "code",
   "execution_count": 0,
   "metadata": {
    "colab": {},
    "colab_type": "code",
    "collapsed": true,
    "id": "YMuHly_Twbwp"
   },
   "outputs": [],
   "source": [
    "#model building\n",
    "model = Sequential()\n",
    "model.add(Conv2D(64, kernel_size=(3, 3),\n",
    "                 activation='relu',\n",
    "                 input_shape=input_shape))\n",
    "\n",
    "#model.add(Conv2D(32, (3, 3), activation='relu'))\n",
    "model.add(MaxPooling2D(pool_size=(2, 2)))\n",
    "model.add(Dropout(0.3))\n",
    "#model.add(BatchNormalization())\n",
    "model.add(Conv2D(32, (3, 3), activation='relu'))\n",
    "model.add(MaxPooling2D(pool_size=(2, 2)))\n",
    "model.add(Dropout(0.3))\n",
    "model.add(Flatten())\n",
    "model.add(Dense(128, activation='relu'))\n",
    "model.add(Dense(1, activation='sigmoid'))\n"
   ]
  },
  {
   "cell_type": "code",
   "execution_count": 65,
   "metadata": {
    "colab": {
     "base_uri": "https://localhost:8080/",
     "height": 454
    },
    "colab_type": "code",
    "id": "0y0YMA1Dwbwu",
    "outputId": "ebabd833-e7ae-4cad-e6a8-6e3816dd8cff"
   },
   "outputs": [
    {
     "name": "stdout",
     "output_type": "stream",
     "text": [
      "Model: \"sequential_5\"\n",
      "_________________________________________________________________\n",
      "Layer (type)                 Output Shape              Param #   \n",
      "=================================================================\n",
      "conv2d_16 (Conv2D)           (None, 226, 226, 64)      640       \n",
      "_________________________________________________________________\n",
      "max_pooling2d_14 (MaxPooling (None, 113, 113, 64)      0         \n",
      "_________________________________________________________________\n",
      "dropout_12 (Dropout)         (None, 113, 113, 64)      0         \n",
      "_________________________________________________________________\n",
      "conv2d_17 (Conv2D)           (None, 111, 111, 32)      18464     \n",
      "_________________________________________________________________\n",
      "max_pooling2d_15 (MaxPooling (None, 55, 55, 32)        0         \n",
      "_________________________________________________________________\n",
      "dropout_13 (Dropout)         (None, 55, 55, 32)        0         \n",
      "_________________________________________________________________\n",
      "flatten_5 (Flatten)          (None, 96800)             0         \n",
      "_________________________________________________________________\n",
      "dense_14 (Dense)             (None, 128)               12390528  \n",
      "_________________________________________________________________\n",
      "dense_15 (Dense)             (None, 1)                 129       \n",
      "=================================================================\n",
      "Total params: 12,409,761\n",
      "Trainable params: 12,409,761\n",
      "Non-trainable params: 0\n",
      "_________________________________________________________________\n"
     ]
    }
   ],
   "source": [
    "#print model summary\n",
    "model.summary()"
   ]
  },
  {
   "cell_type": "code",
   "execution_count": 0,
   "metadata": {
    "colab": {},
    "colab_type": "code",
    "collapsed": true,
    "id": "j7Yo9GJYwbwz"
   },
   "outputs": [],
   "source": [
    "#Compiling model\n",
    "#sgd = optimizers.SGD(lr = 0.001)\n",
    "#model.compile(optimizer = sgd, loss='binary_crossentropy', metrics = ['accuracy'])\n",
    "\n",
    "model.compile(loss='binary_crossentropy', optimizer='adam', metrics=['accuracy'])"
   ]
  },
  {
   "cell_type": "code",
   "execution_count": 67,
   "metadata": {
    "colab": {
     "base_uri": "https://localhost:8080/",
     "height": 34
    },
    "colab_type": "code",
    "id": "Vlu1UPV9wbw4",
    "outputId": "53d6dc19-9a13-4d41-cadc-81d7f19e17d8"
   },
   "outputs": [
    {
     "name": "stdout",
     "output_type": "stream",
     "text": [
      "WARNING:tensorflow:`period` argument is deprecated. Please use `save_freq` to specify the frequency in number of batches seen.\n"
     ]
    }
   ],
   "source": [
    "#Defining callbacks\n",
    "checkpoint = ModelCheckpoint(\"model-{loss:.2f}.h5\", monitor=\"val_accuracy\", verbose=1, save_best_only=True,\n",
    "                             save_weights_only=True, mode=\"max\", period=1)\n",
    "stop = EarlyStopping(monitor=\"loss\", patience=4, mode=\"min\")\n",
    "reduce_lr = ReduceLROnPlateau(monitor=\"val_loss\", factor=0.2, patience=2, min_lr=1e-6, verbose=1, mode=\"min\") "
   ]
  },
  {
   "cell_type": "code",
   "execution_count": 68,
   "metadata": {
    "colab": {
     "base_uri": "https://localhost:8080/",
     "height": 810
    },
    "colab_type": "code",
    "id": "y6pS3016wbw-",
    "outputId": "d9bf4379-60eb-4b57-d77e-c4a1b21e3018"
   },
   "outputs": [
    {
     "name": "stdout",
     "output_type": "stream",
     "text": [
      "Epoch 1/10\n",
      "90/90 [==============================] - ETA: 0s - loss: 0.7204 - accuracy: 0.6548\n",
      "Epoch 00001: val_accuracy improved from -inf to 0.73000, saving model to model-0.72.h5\n",
      "90/90 [==============================] - 28s 307ms/step - loss: 0.7204 - accuracy: 0.6548 - val_loss: 0.5532 - val_accuracy: 0.7300 - lr: 0.0010\n",
      "Epoch 2/10\n",
      "90/90 [==============================] - ETA: 0s - loss: 0.5133 - accuracy: 0.7592\n",
      "Epoch 00002: val_accuracy improved from 0.73000 to 0.75630, saving model to model-0.51.h5\n",
      "90/90 [==============================] - 27s 301ms/step - loss: 0.5133 - accuracy: 0.7592 - val_loss: 0.5162 - val_accuracy: 0.7563 - lr: 0.0010\n",
      "Epoch 3/10\n",
      "90/90 [==============================] - ETA: 0s - loss: 0.5074 - accuracy: 0.7641\n",
      "Epoch 00003: val_accuracy did not improve from 0.75630\n",
      "90/90 [==============================] - 27s 299ms/step - loss: 0.5074 - accuracy: 0.7641 - val_loss: 0.5237 - val_accuracy: 0.7500 - lr: 0.0010\n",
      "Epoch 4/10\n",
      "90/90 [==============================] - ETA: 0s - loss: 0.4872 - accuracy: 0.7746\n",
      "Epoch 00004: val_accuracy improved from 0.75630 to 0.76296, saving model to model-0.49.h5\n",
      "90/90 [==============================] - 27s 303ms/step - loss: 0.4872 - accuracy: 0.7746 - val_loss: 0.5131 - val_accuracy: 0.7630 - lr: 0.0010\n",
      "Epoch 5/10\n",
      "90/90 [==============================] - ETA: 0s - loss: 0.4683 - accuracy: 0.7851\n",
      "Epoch 00005: val_accuracy did not improve from 0.76296\n",
      "90/90 [==============================] - 27s 301ms/step - loss: 0.4683 - accuracy: 0.7851 - val_loss: 0.5195 - val_accuracy: 0.7500 - lr: 0.0010\n",
      "Epoch 6/10\n",
      "90/90 [==============================] - ETA: 0s - loss: 0.4410 - accuracy: 0.7990\n",
      "Epoch 00006: val_accuracy did not improve from 0.76296\n",
      "\n",
      "Epoch 00006: ReduceLROnPlateau reducing learning rate to 0.00020000000949949026.\n",
      "90/90 [==============================] - 27s 300ms/step - loss: 0.4410 - accuracy: 0.7990 - val_loss: 0.5270 - val_accuracy: 0.7544 - lr: 0.0010\n",
      "Epoch 7/10\n",
      "90/90 [==============================] - ETA: 0s - loss: 0.4026 - accuracy: 0.8163\n",
      "Epoch 00007: val_accuracy did not improve from 0.76296\n",
      "90/90 [==============================] - 27s 300ms/step - loss: 0.4026 - accuracy: 0.8163 - val_loss: 0.5224 - val_accuracy: 0.7519 - lr: 2.0000e-04\n",
      "Epoch 8/10\n",
      "90/90 [==============================] - ETA: 0s - loss: 0.3843 - accuracy: 0.8252\n",
      "Epoch 00008: val_accuracy did not improve from 0.76296\n",
      "\n",
      "Epoch 00008: ReduceLROnPlateau reducing learning rate to 4.0000001899898055e-05.\n",
      "90/90 [==============================] - 27s 302ms/step - loss: 0.3843 - accuracy: 0.8252 - val_loss: 0.5285 - val_accuracy: 0.7596 - lr: 2.0000e-04\n",
      "Epoch 9/10\n",
      "90/90 [==============================] - ETA: 0s - loss: 0.3751 - accuracy: 0.8333\n",
      "Epoch 00009: val_accuracy did not improve from 0.76296\n",
      "90/90 [==============================] - 27s 301ms/step - loss: 0.3751 - accuracy: 0.8333 - val_loss: 0.5230 - val_accuracy: 0.7626 - lr: 4.0000e-05\n",
      "Epoch 10/10\n",
      "90/90 [==============================] - ETA: 0s - loss: 0.3720 - accuracy: 0.8319\n",
      "Epoch 00010: val_accuracy improved from 0.76296 to 0.76481, saving model to model-0.37.h5\n",
      "\n",
      "Epoch 00010: ReduceLROnPlateau reducing learning rate to 8.000000525498762e-06.\n",
      "90/90 [==============================] - 27s 303ms/step - loss: 0.3720 - accuracy: 0.8319 - val_loss: 0.5261 - val_accuracy: 0.7648 - lr: 4.0000e-05\n"
     ]
    }
   ],
   "source": [
    "#fitting model to traing set\n",
    "r = model.fit(\n",
    "  X_train,\n",
    "  y_train,\n",
    "  batch_size=70,\n",
    "  epochs=10,\n",
    "  validation_data=(X_val,y_val),\n",
    "  callbacks=[checkpoint, reduce_lr, stop],\n",
    "  verbose=1\n",
    ")"
   ]
  },
  {
   "cell_type": "code",
   "execution_count": 69,
   "metadata": {
    "colab": {
     "base_uri": "https://localhost:8080/",
     "height": 50
    },
    "colab_type": "code",
    "id": "7nujdnXFwbxD",
    "outputId": "5dd5b153-22d1-44b5-ab4f-6c5b5268a20e"
   },
   "outputs": [
    {
     "name": "stdout",
     "output_type": "stream",
     "text": [
      "[[0.9293479]]\n",
      "1\n"
     ]
    }
   ],
   "source": [
    "#predicting one image from validation step\n",
    "n=121\n",
    "img=X_val[n].reshape(1,228,228,1)\n",
    "k=model.predict(img)\n",
    "print(k)\n",
    "print(y_val[n])"
   ]
  },
  {
   "cell_type": "code",
   "execution_count": 70,
   "metadata": {
    "colab": {
     "base_uri": "https://localhost:8080/",
     "height": 50
    },
    "colab_type": "code",
    "id": "lxFX17qRwbxK",
    "outputId": "db331ed2-de4c-4749-eb1d-7553975fbf5d"
   },
   "outputs": [
    {
     "name": "stdout",
     "output_type": "stream",
     "text": [
      "85/85 [==============================] - 5s 53ms/step - loss: 0.5261 - accuracy: 0.7648\n",
      "accuracy:  0.7648147940635681\n"
     ]
    }
   ],
   "source": [
    "#Evaluate validation set and then print accuracy\n",
    "results = model.evaluate(X_val, y_val)\n",
    "print('accuracy: ', results[1])"
   ]
  },
  {
   "cell_type": "code",
   "execution_count": 0,
   "metadata": {
    "colab": {},
    "colab_type": "code",
    "collapsed": true,
    "id": "9B-olzWDwbxX"
   },
   "outputs": [],
   "source": [
    "#Getting prediction of test set\n",
    "prediction_test = model.predict(X_test)"
   ]
  },
  {
   "cell_type": "code",
   "execution_count": 0,
   "metadata": {
    "colab": {},
    "colab_type": "code",
    "collapsed": true,
    "id": "g7w_K4w6wbxb"
   },
   "outputs": [],
   "source": [
    "#Set threshold\n",
    "#we want the value to be either 0 or 1\n",
    "pred=np.zeros((1000,))\n",
    "count=0\n",
    "for i in prediction_test:\n",
    "    if i>0.5:  #Got .5 after many hit and try\n",
    "        pred[count]=1\n",
    "    \n",
    "    else:\n",
    "        pred[count]=0\n",
    "    \n",
    "    count+=1\n",
    "\n",
    "#Threshold is 0.5"
   ]
  },
  {
   "cell_type": "code",
   "execution_count": 73,
   "metadata": {
    "colab": {
     "base_uri": "https://localhost:8080/",
     "height": 302
    },
    "colab_type": "code",
    "id": "A2WnA_Eswbxg",
    "outputId": "29a4875f-f015-478e-c7c2-a058a8a0ce7d"
   },
   "outputs": [
    {
     "name": "stdout",
     "output_type": "stream",
     "text": [
      "accuracy : 0.7710\n",
      "F1 score : 0.8093\n",
      "precision score : 0.7814\n",
      "recall score : 0.8394\n",
      "Confusion Matrix:\n",
      " [[285 136]\n",
      " [ 93 486]] \n",
      "\n",
      "              precision    recall  f1-score   support\n",
      "\n",
      "           0       0.75      0.68      0.71       421\n",
      "           1       0.78      0.84      0.81       579\n",
      "\n",
      "    accuracy                           0.77      1000\n",
      "   macro avg       0.77      0.76      0.76      1000\n",
      "weighted avg       0.77      0.77      0.77      1000\n",
      "\n"
     ]
    }
   ],
   "source": [
    "#print accuracy score, f1 score, precision, recall and classification report\n",
    "print(\"accuracy : {0:.4f}\".format(accuracy_score(y_test,pred)))\n",
    "print(\"F1 score : {0:.4f}\".format(f1_score(y_test,pred)))\n",
    "print(\"precision score : {0:.4f}\".format(precision_score(y_test,pred)))\n",
    "print(\"recall score : {0:.4f}\".format(recall_score(y_test,pred)))\n",
    "print('Confusion Matrix:\\n',confusion_matrix(y_test,pred),'\\n')\n",
    "print(metrics.classification_report(y_test,pred))"
   ]
  },
  {
   "cell_type": "code",
   "execution_count": 74,
   "metadata": {
    "colab": {
     "base_uri": "https://localhost:8080/",
     "height": 34
    },
    "colab_type": "code",
    "id": "kCTgmh7ewbxm",
    "outputId": "5766fd82-94e5-4efe-c9d6-39d3f527bd39"
   },
   "outputs": [
    {
     "name": "stdout",
     "output_type": "stream",
     "text": [
      "0.8440713983893929\n"
     ]
    }
   ],
   "source": [
    "#print AUC for train set\n",
    "aucs = []\n",
    "for j in range(6):\n",
    "    auc = roc_auc_score(y_test, prediction_test)\n",
    "    aucs.append(auc)\n",
    "print(np.mean(aucs))"
   ]
  },
  {
   "cell_type": "code",
   "execution_count": 78,
   "metadata": {
    "colab": {
     "base_uri": "https://localhost:8080/",
     "height": 134
    },
    "colab_type": "code",
    "id": "KfPPl6Uxwbxs",
    "outputId": "05589021-3677-4b69-97c6-3114d6c75edc"
   },
   "outputs": [
    {
     "name": "stdout",
     "output_type": "stream",
     "text": [
      "X_test shape =  (1000, 228, 228, 1)\n",
      "Shape of x =  (228, 228, 1)\n",
      "New Shape of x =  (1, 228, 228, 1)\n",
      "\n",
      "\n",
      "Predicted review =  1\n",
      "Actual value =  1\n"
     ]
    }
   ],
   "source": [
    "#predicting 1 test image\n",
    "n=125\n",
    "print(\"X_test shape = \",X_test.shape) #To see shape of X_test\n",
    "\n",
    "x=X_test[n]  #Put test value in x\n",
    "print(\"Shape of x = \",x.shape)\n",
    "#AS you can see it is out of shape when comared to x_test because it is a single value therefore we need to reshape it\n",
    "\n",
    "x2=x.reshape(1,228,228,1) #Reshape to (1,300) so to put in our model if not done this step it will throw error as our model accept this shape only\n",
    "\n",
    "print(\"New Shape of x = \",x2.shape) #Cross check step to see our new shape\n",
    "\n",
    "P=model.predict(x2) #predict x based on our model\n",
    "\n",
    "P2 = 1 if P>0.5 else 0  #Setting threshold if value less than 0.5 it is -ve review otherwise poistive\n",
    "\n",
    "print(\"\\n\")\n",
    "print(\"Predicted review = \",P2) #predicted review\n",
    "print(\"Actual value = \",y_train[n])"
   ]
  },
  {
   "cell_type": "code",
   "execution_count": 79,
   "metadata": {
    "colab": {
     "base_uri": "https://localhost:8080/",
     "height": 54
    },
    "colab_type": "code",
    "id": "4hG5ivrewbxw",
    "outputId": "a2a9f6fb-3204-4644-b028-4c57d6db8da0"
   },
   "outputs": [
    {
     "name": "stdout",
     "output_type": "stream",
     "text": [
      "{'loss': [0.7204421758651733, 0.5133098363876343, 0.5074086785316467, 0.48721709847450256, 0.468265175819397, 0.4409917891025543, 0.4025815427303314, 0.3842627704143524, 0.3750933110713959, 0.37201517820358276], 'accuracy': [0.6547619104385376, 0.7592063546180725, 0.7641269564628601, 0.7746031880378723, 0.7850793600082397, 0.799047589302063, 0.81634920835495, 0.8252381086349487, 0.8333333134651184, 0.8319047689437866], 'val_loss': [0.5531591773033142, 0.5162366032600403, 0.5237092971801758, 0.5131043195724487, 0.5195426344871521, 0.5269945859909058, 0.5224007368087769, 0.5284585952758789, 0.5230433344841003, 0.5261417627334595], 'val_accuracy': [0.7300000190734863, 0.7562962770462036, 0.75, 0.7629629373550415, 0.75, 0.754444420337677, 0.7518518567085266, 0.7596296072006226, 0.762592613697052, 0.7648147940635681], 'lr': [0.001, 0.001, 0.001, 0.001, 0.001, 0.001, 0.00020000001, 0.00020000001, 4.0000003e-05, 4.0000003e-05]}\n"
     ]
    }
   ],
   "source": [
    "#To see what out model stores info so that these can be plotted\n",
    "print(r.history)"
   ]
  },
  {
   "cell_type": "code",
   "execution_count": 81,
   "metadata": {
    "colab": {
     "base_uri": "https://localhost:8080/",
     "height": 282
    },
    "colab_type": "code",
    "id": "NDnJoJt5wbx1",
    "outputId": "ddf3ac05-55d4-42ca-a9e6-cdc2c280b7f4"
   },
   "outputs": [
    {
     "data": {
      "image/png": "[encoded data removed]",
      "text/plain": [
       "<Figure size 432x288 with 1 Axes>"
      ]
     },
     "metadata": {
      "tags": []
     },
     "output_type": "display_data"
    }
   ],
   "source": [
    "# plot model loss\n",
    "plt.plot(r.history['loss'], label='loss')\n",
    "plt.plot(r.history['val_loss'], label='val_loss')\n",
    "plt.title('model loss')\n",
    "plt.legend()\n",
    "plt.show()"
   ]
  },
  {
   "cell_type": "code",
   "execution_count": 82,
   "metadata": {
    "colab": {
     "base_uri": "https://localhost:8080/",
     "height": 282
    },
    "colab_type": "code",
    "id": "jhOhjrnowbx5",
    "outputId": "a579b510-380b-4789-90a8-6118400002f5"
   },
   "outputs": [
    {
     "data": {
      "image/png": "[encoded data removed]",
      "text/plain": [
       "<Figure size 432x288 with 1 Axes>"
      ]
     },
     "metadata": {
      "tags": []
     },
     "output_type": "display_data"
    }
   ],
   "source": [
    "#plot model accuracies\n",
    "plt.plot(r.history['accuracy'], label='acc')\n",
    "plt.plot(r.history['val_accuracy'], label='val_acc')\n",
    "plt.title('model accuracy')\n",
    "plt.legend()\n",
    "plt.show()"
   ]
  },
  {
   "cell_type": "markdown",
   "metadata": {
    "colab_type": "text",
    "id": "cY7fmVEHwbx9"
   },
   "source": []
  },
  {
   "cell_type": "markdown",
   "metadata": {
    "colab_type": "text",
    "id": "B-PLLXyiwbx-"
   },
   "source": [
    "#### Note: From VGG16 to VGG19 the approach we took is first adding a convolution layer so that our images of single channel are converted to three channel and after that we are passing that output to our pre trained model and at the end we are passing the output from pretrained  to the input of our custom layers to predict our output"
   ]
  },
  {
   "cell_type": "markdown",
   "metadata": {
    "colab_type": "text",
    "id": "y81Rnjc1wbx_"
   },
   "source": [
    "### VGG16"
   ]
  },
  {
   "cell_type": "code",
   "execution_count": 83,
   "metadata": {
    "colab": {
     "base_uri": "https://localhost:8080/",
     "height": 50
    },
    "colab_type": "code",
    "id": "2D8krV4Lwbx_",
    "outputId": "4d85fd90-6363-46c2-c8cf-93c7d7c88abb"
   },
   "outputs": [
    {
     "name": "stdout",
     "output_type": "stream",
     "text": [
      "Downloading data from https://storage.googleapis.com/tensorflow/keras-applications/vgg16/vgg16_weights_tf_dim_ordering_tf_kernels_notop.h5\n",
      "58892288/58889256 [==============================] - 1s 0us/step\n"
     ]
    }
   ],
   "source": [
    "#Model building\n",
    "input_tensor = Input(shape=(228,228,1) )\n",
    "x2 = Conv2D(3, (3,3), padding='same', name=\"coords1\")(input_tensor) \n",
    "\n",
    "model = VGG16(include_top=False, input_shape=(228, 228, 3), weights = \"imagenet\")\n",
    "\n",
    "\n",
    "for layer in model.layers:\n",
    "    layer.trainable = False\n",
    "    \n",
    "x1 = model(x2)\n",
    "\n",
    "#x1 = model.layers[-1].output\n",
    "x = Conv2D(3, (6,6), name=\"coords2\")(x1)\n",
    "x = Dropout(0.4)(x)\n",
    "\n",
    "\n",
    "x = Flatten()(x)\n",
    "\n",
    "x = Dense(128, activation='relu')(x)\n",
    "x = Dropout(0.4)(x)\n",
    "x = Dense(1, activation='sigmoid')(x)\n",
    "\n",
    "model = Model(inputs=input_tensor, outputs=x)"
   ]
  },
  {
   "cell_type": "code",
   "execution_count": 84,
   "metadata": {
    "colab": {
     "base_uri": "https://localhost:8080/",
     "height": 454
    },
    "colab_type": "code",
    "id": "iybpN83swbyD",
    "outputId": "aeba9fb4-6e97-4f5e-fff8-2424a894edc0"
   },
   "outputs": [
    {
     "name": "stdout",
     "output_type": "stream",
     "text": [
      "Model: \"model\"\n",
      "_________________________________________________________________\n",
      "Layer (type)                 Output Shape              Param #   \n",
      "=================================================================\n",
      "input_1 (InputLayer)         [(None, 228, 228, 1)]     0         \n",
      "_________________________________________________________________\n",
      "coords1 (Conv2D)             (None, 228, 228, 3)       30        \n",
      "_________________________________________________________________\n",
      "vgg16 (Model)                (None, 7, 7, 512)         14714688  \n",
      "_________________________________________________________________\n",
      "coords2 (Conv2D)             (None, 2, 2, 3)           55299     \n",
      "_________________________________________________________________\n",
      "dropout_14 (Dropout)         (None, 2, 2, 3)           0         \n",
      "_________________________________________________________________\n",
      "flatten_6 (Flatten)          (None, 12)                0         \n",
      "_________________________________________________________________\n",
      "dense_16 (Dense)             (None, 128)               1664      \n",
      "_________________________________________________________________\n",
      "dropout_15 (Dropout)         (None, 128)               0         \n",
      "_________________________________________________________________\n",
      "dense_17 (Dense)             (None, 1)                 129       \n",
      "=================================================================\n",
      "Total params: 14,771,810\n",
      "Trainable params: 57,122\n",
      "Non-trainable params: 14,714,688\n",
      "_________________________________________________________________\n"
     ]
    }
   ],
   "source": [
    "#print model summary\n",
    "model.summary()"
   ]
  },
  {
   "cell_type": "code",
   "execution_count": 0,
   "metadata": {
    "colab": {},
    "colab_type": "code",
    "collapsed": true,
    "id": "pAcp2VDDwbyH"
   },
   "outputs": [],
   "source": [
    "#Compiling the model\n",
    "model.compile(loss='binary_crossentropy', optimizer='adam', metrics=['accuracy'])"
   ]
  },
  {
   "cell_type": "code",
   "execution_count": 87,
   "metadata": {
    "colab": {
     "base_uri": "https://localhost:8080/",
     "height": 34
    },
    "colab_type": "code",
    "id": "R2CTviP3wbyO",
    "outputId": "e24fcaed-1eb3-4e71-967d-3c2673e2fe26"
   },
   "outputs": [
    {
     "name": "stdout",
     "output_type": "stream",
     "text": [
      "WARNING:tensorflow:`period` argument is deprecated. Please use `save_freq` to specify the frequency in number of batches seen.\n"
     ]
    }
   ],
   "source": [
    "#Defining callbacks\n",
    "checkpoint = ModelCheckpoint(\"model-{loss:.2f}.h5\", monitor=\"val_accuracy\", verbose=1, save_best_only=True,\n",
    "                             save_weights_only=True, mode=\"max\", period=1)\n",
    "stop = EarlyStopping(monitor=\"loss\", patience=4, mode=\"min\")\n",
    "reduce_lr = ReduceLROnPlateau(monitor=\"val_loss\", factor=0.2, patience=2, min_lr=1e-6, verbose=1, mode=\"min\") "
   ]
  },
  {
   "cell_type": "code",
   "execution_count": 88,
   "metadata": {
    "colab": {
     "base_uri": "https://localhost:8080/",
     "height": 742
    },
    "colab_type": "code",
    "id": "KHutlinuwbyV",
    "outputId": "32289f13-0b84-4ea6-e692-0ff396c4460a"
   },
   "outputs": [
    {
     "name": "stdout",
     "output_type": "stream",
     "text": [
      "Epoch 1/10\n",
      "90/90 [==============================] - ETA: 0s - loss: 0.5778 - accuracy: 0.6992\n",
      "Epoch 00001: val_accuracy improved from -inf to 0.76704, saving model to model-0.58.h5\n",
      "90/90 [==============================] - 160s 2s/step - loss: 0.5778 - accuracy: 0.6992 - val_loss: 0.5025 - val_accuracy: 0.7670 - lr: 0.0010\n",
      "Epoch 2/10\n",
      "90/90 [==============================] - ETA: 0s - loss: 0.5160 - accuracy: 0.7667\n",
      "Epoch 00002: val_accuracy did not improve from 0.76704\n",
      "90/90 [==============================] - 156s 2s/step - loss: 0.5160 - accuracy: 0.7667 - val_loss: 0.5032 - val_accuracy: 0.7593 - lr: 0.0010\n",
      "Epoch 3/10\n",
      "90/90 [==============================] - ETA: 0s - loss: 0.4654 - accuracy: 0.7941\n",
      "Epoch 00003: val_accuracy improved from 0.76704 to 0.79111, saving model to model-0.47.h5\n",
      "90/90 [==============================] - 157s 2s/step - loss: 0.4654 - accuracy: 0.7941 - val_loss: 0.4523 - val_accuracy: 0.7911 - lr: 0.0010\n",
      "Epoch 4/10\n",
      "90/90 [==============================] - ETA: 0s - loss: 0.4623 - accuracy: 0.7929\n",
      "Epoch 00004: val_accuracy did not improve from 0.79111\n",
      "90/90 [==============================] - 157s 2s/step - loss: 0.4623 - accuracy: 0.7929 - val_loss: 0.4433 - val_accuracy: 0.7904 - lr: 0.0010\n",
      "Epoch 5/10\n",
      "90/90 [==============================] - ETA: 0s - loss: 0.4397 - accuracy: 0.8033\n",
      "Epoch 00005: val_accuracy improved from 0.79111 to 0.79815, saving model to model-0.44.h5\n",
      "90/90 [==============================] - 157s 2s/step - loss: 0.4397 - accuracy: 0.8033 - val_loss: 0.4404 - val_accuracy: 0.7981 - lr: 0.0010\n",
      "Epoch 6/10\n",
      "90/90 [==============================] - ETA: 0s - loss: 0.4200 - accuracy: 0.8210\n",
      "Epoch 00006: val_accuracy did not improve from 0.79815\n",
      "90/90 [==============================] - 157s 2s/step - loss: 0.4200 - accuracy: 0.8210 - val_loss: 0.5220 - val_accuracy: 0.7778 - lr: 0.0010\n",
      "Epoch 7/10\n",
      "90/90 [==============================] - ETA: 0s - loss: 0.4171 - accuracy: 0.8181\n",
      "Epoch 00007: val_accuracy did not improve from 0.79815\n",
      "90/90 [==============================] - 156s 2s/step - loss: 0.4171 - accuracy: 0.8181 - val_loss: 0.4340 - val_accuracy: 0.7948 - lr: 0.0010\n",
      "Epoch 8/10\n",
      "90/90 [==============================] - ETA: 0s - loss: 0.4024 - accuracy: 0.8198\n",
      "Epoch 00008: val_accuracy did not improve from 0.79815\n",
      "90/90 [==============================] - 157s 2s/step - loss: 0.4024 - accuracy: 0.8198 - val_loss: 0.4753 - val_accuracy: 0.7796 - lr: 0.0010\n",
      "Epoch 9/10\n",
      "90/90 [==============================] - ETA: 0s - loss: 0.3869 - accuracy: 0.8349\n",
      "Epoch 00009: val_accuracy improved from 0.79815 to 0.80037, saving model to model-0.39.h5\n",
      "\n",
      "Epoch 00009: ReduceLROnPlateau reducing learning rate to 0.00020000000949949026.\n",
      "90/90 [==============================] - 157s 2s/step - loss: 0.3869 - accuracy: 0.8349 - val_loss: 0.4587 - val_accuracy: 0.8004 - lr: 0.0010\n",
      "Epoch 10/10\n",
      "90/90 [==============================] - ETA: 0s - loss: 0.3463 - accuracy: 0.8560\n",
      "Epoch 00010: val_accuracy improved from 0.80037 to 0.80481, saving model to model-0.35.h5\n",
      "90/90 [==============================] - 157s 2s/step - loss: 0.3463 - accuracy: 0.8560 - val_loss: 0.4342 - val_accuracy: 0.8048 - lr: 2.0000e-04\n"
     ]
    }
   ],
   "source": [
    "#fitting model to traing set\n",
    "r = model.fit(\n",
    "  X_train,\n",
    "  y_train,\n",
    "  batch_size=70,\n",
    "  epochs=10,\n",
    "  validation_data=(X_val,y_val),\n",
    "  callbacks=[checkpoint, reduce_lr, stop],\n",
    "  verbose=1\n",
    ")"
   ]
  },
  {
   "cell_type": "code",
   "execution_count": 89,
   "metadata": {
    "colab": {
     "base_uri": "https://localhost:8080/",
     "height": 50
    },
    "colab_type": "code",
    "id": "OhXboicIwbyd",
    "outputId": "5581f78c-6ab3-4c43-92b2-1641b79c453e"
   },
   "outputs": [
    {
     "name": "stdout",
     "output_type": "stream",
     "text": [
      "[[0.9157621]]\n",
      "1\n"
     ]
    }
   ],
   "source": [
    "#predicting one image from validation step\n",
    "n=121\n",
    "img=X_val[n].reshape(1,228,228,1)\n",
    "k=model.predict(img)\n",
    "print(k)\n",
    "print(y_val[n])"
   ]
  },
  {
   "cell_type": "code",
   "execution_count": 90,
   "metadata": {
    "colab": {
     "base_uri": "https://localhost:8080/",
     "height": 50
    },
    "colab_type": "code",
    "id": "Q2ahEQYrwbyi",
    "outputId": "39db97d8-21f0-4e18-cf24-b848898753f7"
   },
   "outputs": [
    {
     "name": "stdout",
     "output_type": "stream",
     "text": [
      "85/85 [==============================] - 29s 338ms/step - loss: 0.4342 - accuracy: 0.8048\n",
      "accuracy:  0.8048148155212402\n"
     ]
    }
   ],
   "source": [
    "#Evaluate validation set and then print accuracy\n",
    "results = model.evaluate(X_val, y_val)\n",
    "print('accuracy: ', results[1])"
   ]
  },
  {
   "cell_type": "code",
   "execution_count": 0,
   "metadata": {
    "colab": {},
    "colab_type": "code",
    "collapsed": true,
    "id": "grBfsEkiwbyq"
   },
   "outputs": [],
   "source": [
    "#Getting prediction of test set\n",
    "prediction_test = model.predict(X_test)"
   ]
  },
  {
   "cell_type": "code",
   "execution_count": 0,
   "metadata": {
    "colab": {},
    "colab_type": "code",
    "collapsed": true,
    "id": "dFkxIaOmwbyt"
   },
   "outputs": [],
   "source": [
    "#Set threshold\n",
    "#we want the value to be either 0 or 1\n",
    "pred=np.zeros((1000,))\n",
    "count=0\n",
    "for i in prediction_test:\n",
    "    if i>0.5:  #Got .5 after many hit and try\n",
    "        pred[count]=1\n",
    "    \n",
    "    else:\n",
    "        pred[count]=0\n",
    "    \n",
    "    count+=1\n",
    "\n",
    "#Threshold is 0.5"
   ]
  },
  {
   "cell_type": "code",
   "execution_count": 93,
   "metadata": {
    "colab": {
     "base_uri": "https://localhost:8080/",
     "height": 302
    },
    "colab_type": "code",
    "id": "js-fEEvwwbyx",
    "outputId": "61880235-0724-4c82-b897-ad174b7422db"
   },
   "outputs": [
    {
     "name": "stdout",
     "output_type": "stream",
     "text": [
      "accuracy : 0.8050\n",
      "F1 score : 0.8306\n",
      "precision score : 0.8357\n",
      "recall score : 0.8256\n",
      "Confusion Matrix:\n",
      " [[327  94]\n",
      " [101 478]] \n",
      "\n",
      "              precision    recall  f1-score   support\n",
      "\n",
      "           0       0.76      0.78      0.77       421\n",
      "           1       0.84      0.83      0.83       579\n",
      "\n",
      "    accuracy                           0.81      1000\n",
      "   macro avg       0.80      0.80      0.80      1000\n",
      "weighted avg       0.81      0.81      0.81      1000\n",
      "\n"
     ]
    }
   ],
   "source": [
    "#print accuracy score, f1 score, precision, recall and classification report\n",
    "print(\"accuracy : {0:.4f}\".format(accuracy_score(y_test,pred)))\n",
    "print(\"F1 score : {0:.4f}\".format(f1_score(y_test,pred)))\n",
    "print(\"precision score : {0:.4f}\".format(precision_score(y_test,pred)))\n",
    "print(\"recall score : {0:.4f}\".format(recall_score(y_test,pred)))\n",
    "print('Confusion Matrix:\\n',confusion_matrix(y_test,pred),'\\n')\n",
    "print(metrics.classification_report(y_test,pred))"
   ]
  },
  {
   "cell_type": "code",
   "execution_count": 94,
   "metadata": {
    "colab": {
     "base_uri": "https://localhost:8080/",
     "height": 34
    },
    "colab_type": "code",
    "id": "j1iFV_aRwby0",
    "outputId": "76a6cd30-fd9d-4693-e340-aa2f72f1936d"
   },
   "outputs": [
    {
     "name": "stdout",
     "output_type": "stream",
     "text": [
      "0.8823058840904334\n"
     ]
    }
   ],
   "source": [
    "#print AUC for train set\n",
    "aucs = []\n",
    "for j in range(6):\n",
    "    auc = roc_auc_score(y_test, prediction_test)\n",
    "    aucs.append(auc)\n",
    "print(np.mean(aucs))"
   ]
  },
  {
   "cell_type": "code",
   "execution_count": 95,
   "metadata": {
    "colab": {
     "base_uri": "https://localhost:8080/",
     "height": 134
    },
    "colab_type": "code",
    "id": "d5Pe231qwby4",
    "outputId": "06363093-268d-4eda-86ce-6c5255edfa68"
   },
   "outputs": [
    {
     "name": "stdout",
     "output_type": "stream",
     "text": [
      "X_test shape =  (1000, 228, 228, 1)\n",
      "Shape of x =  (228, 228, 1)\n",
      "New Shape of x =  (1, 228, 228, 1)\n",
      "\n",
      "\n",
      "Predicted review =  0\n",
      "Actual value =  0\n"
     ]
    }
   ],
   "source": [
    "#prediction of 1 image\n",
    "n=301\n",
    "print(\"X_test shape = \",X_test.shape) #To see shape of X_test\n",
    "\n",
    "x=X_test[n]  #Put test value in x\n",
    "print(\"Shape of x = \",x.shape)\n",
    "#AS you can see it is out of shape when comared to x_test because it is a single value therefore we need to reshape it\n",
    "\n",
    "x2=x.reshape(1,228,228,1) #Reshape to (1,300) so to put in our model if not done this step it will throw error as our model accept this shape only\n",
    "\n",
    "print(\"New Shape of x = \",x2.shape) #Cross check step to see our new shape\n",
    "\n",
    "P=model.predict(x2) #predict x based on our model\n",
    "\n",
    "P2 = 1 if P>0.5 else 0  #Setting threshold if value less than 0.5 it is -ve review otherwise poistive\n",
    "\n",
    "print(\"\\n\")\n",
    "print(\"Predicted review = \",P2) #predicted review\n",
    "print(\"Actual value = \",y_test[n])"
   ]
  },
  {
   "cell_type": "code",
   "execution_count": 96,
   "metadata": {
    "colab": {
     "base_uri": "https://localhost:8080/",
     "height": 54
    },
    "colab_type": "code",
    "id": "tXJipFxWwby8",
    "outputId": "d9f0e710-cc9e-4b8d-8f53-33a9b19e6f2d"
   },
   "outputs": [
    {
     "name": "stdout",
     "output_type": "stream",
     "text": [
      "{'loss': [0.5778491497039795, 0.5159827470779419, 0.46536803245544434, 0.4622693955898285, 0.4397476017475128, 0.420001357793808, 0.41709545254707336, 0.40241533517837524, 0.3869202136993408, 0.3462977409362793], 'accuracy': [0.6992063522338867, 0.7666666507720947, 0.7941269874572754, 0.7928571701049805, 0.8033333420753479, 0.8209523558616638, 0.8180952668190002, 0.8198412656784058, 0.8349206447601318, 0.8560317754745483], 'val_loss': [0.502513587474823, 0.5031753778457642, 0.4522634446620941, 0.44328704476356506, 0.44039416313171387, 0.5219946503639221, 0.4340128004550934, 0.47527506947517395, 0.4586804509162903, 0.4342444837093353], 'val_accuracy': [0.767037034034729, 0.7592592835426331, 0.7911111116409302, 0.7903703451156616, 0.7981481552124023, 0.7777777910232544, 0.7948148250579834, 0.779629647731781, 0.8003703951835632, 0.8048148155212402], 'lr': [0.001, 0.001, 0.001, 0.001, 0.001, 0.001, 0.001, 0.001, 0.001, 0.00020000001]}\n"
     ]
    }
   ],
   "source": [
    "#To see what out model stores info so that these can be plotted\n",
    "print(r.history)"
   ]
  },
  {
   "cell_type": "code",
   "execution_count": 97,
   "metadata": {
    "colab": {
     "base_uri": "https://localhost:8080/",
     "height": 282
    },
    "colab_type": "code",
    "id": "YgqDW5rBwby_",
    "outputId": "5eae731b-0c9d-40d2-d34e-2e0ebd9cb53f"
   },
   "outputs": [
    {
     "data": {
      "image/png": "[encoded data removed]",
      "text/plain": [
       "<Figure size 432x288 with 1 Axes>"
      ]
     },
     "metadata": {
      "tags": []
     },
     "output_type": "display_data"
    }
   ],
   "source": [
    "# plot model loss\n",
    "plt.plot(r.history['loss'], label='loss')\n",
    "plt.plot(r.history['val_loss'], label='val_loss')\n",
    "plt.title('model loss')\n",
    "plt.legend()\n",
    "plt.show()"
   ]
  },
  {
   "cell_type": "code",
   "execution_count": 138,
   "metadata": {
    "colab": {
     "base_uri": "https://localhost:8080/",
     "height": 267
    },
    "colab_type": "code",
    "id": "w9O1fbmywbzD",
    "outputId": "6413b86b-b287-4d43-9cfb-f54fc8fb7e02"
   },
   "outputs": [
    {
     "data": {
      "image/png": "[encoded data removed]",
      "text/plain": [
       "<Figure size 432x288 with 1 Axes>"
      ]
     },
     "metadata": {
      "needs_background": "light",
      "tags": []
     },
     "output_type": "display_data"
    }
   ],
   "source": [
    "#plot model accuracies\n",
    "plt.plot(r.history['accuracy'], label='acc')\n",
    "plt.plot(r.history['val_accuracy'], label='val_acc')\n",
    "plt.title('model accuracy')\n",
    "plt.legend()\n",
    "plt.show()"
   ]
  },
  {
   "cell_type": "markdown",
   "metadata": {
    "colab_type": "text",
    "id": "_x36JWuHwbzH"
   },
   "source": [
    "### Mobile Net"
   ]
  },
  {
   "cell_type": "code",
   "execution_count": 0,
   "metadata": {
    "colab": {},
    "colab_type": "code",
    "collapsed": true,
    "id": "iDGJdE2ywbzH"
   },
   "outputs": [],
   "source": [
    "ALPHA = 1.0"
   ]
  },
  {
   "cell_type": "code",
   "execution_count": 187,
   "metadata": {
    "colab": {
     "base_uri": "https://localhost:8080/",
     "height": 54
    },
    "colab_type": "code",
    "id": "bc0OIXejwbzK",
    "outputId": "dedd02a2-4a30-4b4b-b369-81889a3616c7"
   },
   "outputs": [
    {
     "name": "stdout",
     "output_type": "stream",
     "text": [
      "WARNING:tensorflow:`input_shape` is undefined or non-square, or `rows` is not in [128, 160, 192, 224]. Weights for input shape (224, 224) will be loaded as the default.\n"
     ]
    }
   ],
   "source": [
    "#model building\n",
    "input_tensor = Input(shape=(228,228,1) )\n",
    "x2 = Conv2D(3, (3,3), padding='same', name=\"coords1\")(input_tensor) \n",
    "\n",
    "model2 = MobileNet(input_shape=(228, 228, 3), include_top=False, alpha=ALPHA, weights = \"imagenet\") \n",
    "\n",
    "for layer in model2.layers:\n",
    "    layer.trainable = False\n",
    "    \n",
    "x1 = model2(x2)\n",
    "x = Dropout(0.5)(x)\n",
    "x = Conv2D(3, (6,6), name=\"coords2\")(x1)\n",
    "x = Dropout(0.5)(x)\n",
    "\n",
    "\n",
    "x = Flatten()(x)\n",
    "\n",
    "x = Dense(128, activation='relu')(x)\n",
    "x = Dropout(0.5)(x)\n",
    "x = Dense(1, activation='sigmoid')(x)\n",
    "\n",
    "model2 = Model(inputs=input_tensor, outputs=x)"
   ]
  },
  {
   "cell_type": "code",
   "execution_count": 188,
   "metadata": {
    "colab": {
     "base_uri": "https://localhost:8080/",
     "height": 454
    },
    "colab_type": "code",
    "id": "oCrOlXctwbzN",
    "outputId": "4fc09d47-aa08-4e13-e372-db18e8844122"
   },
   "outputs": [
    {
     "name": "stdout",
     "output_type": "stream",
     "text": [
      "Model: \"model_7\"\n",
      "_________________________________________________________________\n",
      "Layer (type)                 Output Shape              Param #   \n",
      "=================================================================\n",
      "input_22 (InputLayer)        [(None, 228, 228, 1)]     0         \n",
      "_________________________________________________________________\n",
      "coords1 (Conv2D)             (None, 228, 228, 3)       30        \n",
      "_________________________________________________________________\n",
      "mobilenet_1.00_224 (Model)   (None, 7, 7, 1024)        3228864   \n",
      "_________________________________________________________________\n",
      "coords2 (Conv2D)             (None, 2, 2, 3)           110595    \n",
      "_________________________________________________________________\n",
      "dropout_59 (Dropout)         (None, 2, 2, 3)           0         \n",
      "_________________________________________________________________\n",
      "flatten_20 (Flatten)         (None, 12)                0         \n",
      "_________________________________________________________________\n",
      "dense_65 (Dense)             (None, 128)               1664      \n",
      "_________________________________________________________________\n",
      "dropout_60 (Dropout)         (None, 128)               0         \n",
      "_________________________________________________________________\n",
      "dense_66 (Dense)             (None, 1)                 129       \n",
      "=================================================================\n",
      "Total params: 3,341,282\n",
      "Trainable params: 112,418\n",
      "Non-trainable params: 3,228,864\n",
      "_________________________________________________________________\n"
     ]
    }
   ],
   "source": [
    "#print model summary\n",
    "model2.summary()"
   ]
  },
  {
   "cell_type": "code",
   "execution_count": 0,
   "metadata": {
    "colab": {},
    "colab_type": "code",
    "collapsed": true,
    "id": "MR8zdhnlwbzT"
   },
   "outputs": [],
   "source": [
    "#Compiling model\n",
    "model2.compile(loss='binary_crossentropy', optimizer='adam', metrics=['accuracy'])"
   ]
  },
  {
   "cell_type": "code",
   "execution_count": 190,
   "metadata": {
    "colab": {
     "base_uri": "https://localhost:8080/",
     "height": 34
    },
    "colab_type": "code",
    "id": "plUPHMH_wbzX",
    "outputId": "7fd2e514-f966-41f5-c907-39646b144604"
   },
   "outputs": [
    {
     "name": "stdout",
     "output_type": "stream",
     "text": [
      "WARNING:tensorflow:`period` argument is deprecated. Please use `save_freq` to specify the frequency in number of batches seen.\n"
     ]
    }
   ],
   "source": [
    "#Defining callbacks\n",
    "checkpoint = ModelCheckpoint(\"model-{loss:.2f}.h5\", monitor=\"val_accuracy\", verbose=1, save_best_only=True,\n",
    "                             save_weights_only=True, mode=\"max\", period=1)\n",
    "stop = EarlyStopping(monitor=\"loss\", patience=4, mode=\"min\")\n",
    "reduce_lr = ReduceLROnPlateau(monitor=\"val_loss\", factor=0.2, patience=2, min_lr=1e-6, verbose=1, mode=\"min\") "
   ]
  },
  {
   "cell_type": "code",
   "execution_count": 191,
   "metadata": {
    "colab": {
     "base_uri": "https://localhost:8080/",
     "height": 810
    },
    "colab_type": "code",
    "id": "K0QPey3ywbzj",
    "outputId": "4cfd1a2d-7346-41c5-a0fa-2ad0917ba94a"
   },
   "outputs": [
    {
     "name": "stdout",
     "output_type": "stream",
     "text": [
      "Epoch 1/10\n",
      "90/90 [==============================] - ETA: 0s - loss: 1.3522 - accuracy: 0.6613\n",
      "Epoch 00001: val_accuracy improved from -inf to 0.78185, saving model to model-1.35.h5\n",
      "90/90 [==============================] - 48s 529ms/step - loss: 1.3522 - accuracy: 0.6613 - val_loss: 0.5395 - val_accuracy: 0.7819 - lr: 0.0010\n",
      "Epoch 2/10\n",
      "90/90 [==============================] - ETA: 0s - loss: 0.8164 - accuracy: 0.7230\n",
      "Epoch 00002: val_accuracy improved from 0.78185 to 0.80741, saving model to model-0.82.h5\n",
      "90/90 [==============================] - 47s 527ms/step - loss: 0.8164 - accuracy: 0.7230 - val_loss: 0.5101 - val_accuracy: 0.8074 - lr: 0.0010\n",
      "Epoch 3/10\n",
      "90/90 [==============================] - ETA: 0s - loss: 0.6190 - accuracy: 0.7698\n",
      "Epoch 00003: val_accuracy did not improve from 0.80741\n",
      "90/90 [==============================] - 47s 524ms/step - loss: 0.6190 - accuracy: 0.7698 - val_loss: 0.5829 - val_accuracy: 0.7819 - lr: 0.0010\n",
      "Epoch 4/10\n",
      "90/90 [==============================] - ETA: 0s - loss: 0.5086 - accuracy: 0.8108\n",
      "Epoch 00004: val_accuracy did not improve from 0.80741\n",
      "\n",
      "Epoch 00004: ReduceLROnPlateau reducing learning rate to 0.00020000000949949026.\n",
      "90/90 [==============================] - 47s 525ms/step - loss: 0.5086 - accuracy: 0.8108 - val_loss: 0.5653 - val_accuracy: 0.8026 - lr: 0.0010\n",
      "Epoch 5/10\n",
      "90/90 [==============================] - ETA: 0s - loss: 0.3742 - accuracy: 0.8540\n",
      "Epoch 00005: val_accuracy improved from 0.80741 to 0.81815, saving model to model-0.37.h5\n",
      "90/90 [==============================] - 47s 526ms/step - loss: 0.3742 - accuracy: 0.8540 - val_loss: 0.5038 - val_accuracy: 0.8181 - lr: 2.0000e-04\n",
      "Epoch 6/10\n",
      "90/90 [==============================] - ETA: 0s - loss: 0.3017 - accuracy: 0.8776\n",
      "Epoch 00006: val_accuracy improved from 0.81815 to 0.81926, saving model to model-0.30.h5\n",
      "90/90 [==============================] - 47s 527ms/step - loss: 0.3017 - accuracy: 0.8776 - val_loss: 0.5153 - val_accuracy: 0.8193 - lr: 2.0000e-04\n",
      "Epoch 7/10\n",
      "90/90 [==============================] - ETA: 0s - loss: 0.2723 - accuracy: 0.8870\n",
      "Epoch 00007: val_accuracy did not improve from 0.81926\n",
      "\n",
      "Epoch 00007: ReduceLROnPlateau reducing learning rate to 4.0000001899898055e-05.\n",
      "90/90 [==============================] - 47s 525ms/step - loss: 0.2723 - accuracy: 0.8870 - val_loss: 0.5072 - val_accuracy: 0.8152 - lr: 2.0000e-04\n",
      "Epoch 8/10\n",
      "90/90 [==============================] - ETA: 0s - loss: 0.2403 - accuracy: 0.9073\n",
      "Epoch 00008: val_accuracy did not improve from 0.81926\n",
      "90/90 [==============================] - 47s 524ms/step - loss: 0.2403 - accuracy: 0.9073 - val_loss: 0.5041 - val_accuracy: 0.8181 - lr: 4.0000e-05\n",
      "Epoch 9/10\n",
      "90/90 [==============================] - ETA: 0s - loss: 0.2346 - accuracy: 0.9083\n",
      "Epoch 00009: val_accuracy did not improve from 0.81926\n",
      "\n",
      "Epoch 00009: ReduceLROnPlateau reducing learning rate to 8.000000525498762e-06.\n",
      "90/90 [==============================] - 47s 525ms/step - loss: 0.2346 - accuracy: 0.9083 - val_loss: 0.5129 - val_accuracy: 0.8119 - lr: 4.0000e-05\n",
      "Epoch 10/10\n",
      "90/90 [==============================] - ETA: 0s - loss: 0.2232 - accuracy: 0.9117\n",
      "Epoch 00010: val_accuracy did not improve from 0.81926\n",
      "90/90 [==============================] - 47s 523ms/step - loss: 0.2232 - accuracy: 0.9117 - val_loss: 0.5114 - val_accuracy: 0.8167 - lr: 8.0000e-06\n"
     ]
    }
   ],
   "source": [
    "#fitting model to traing set\n",
    "r = model2.fit(\n",
    "  X_train,\n",
    "  y_train,\n",
    "  batch_size=70,\n",
    "  epochs=10,\n",
    "  validation_data=(X_val,y_val),\n",
    "  callbacks=[checkpoint, reduce_lr, stop],\n",
    "  verbose=1\n",
    ")"
   ]
  },
  {
   "cell_type": "code",
   "execution_count": 0,
   "metadata": {
    "colab": {},
    "colab_type": "code",
    "collapsed": true,
    "id": "aEOr1ltenuxZ"
   },
   "outputs": [],
   "source": [
    "#Loading weights of best validation accuracy\n",
    "model2.load_weights('model-0.30.h5')"
   ]
  },
  {
   "cell_type": "code",
   "execution_count": 216,
   "metadata": {
    "colab": {
     "base_uri": "https://localhost:8080/",
     "height": 50
    },
    "colab_type": "code",
    "id": "Tqp9e_shwbzp",
    "outputId": "2b8319af-da8d-4b3c-831e-7b5bfcd0d926"
   },
   "outputs": [
    {
     "name": "stdout",
     "output_type": "stream",
     "text": [
      "[[0.9999924]]\n",
      "1\n"
     ]
    }
   ],
   "source": [
    "#predicting one image from validation step\n",
    "n=121\n",
    "img=X_val[n].reshape(1,228,228,1)\n",
    "k=model2.predict(img)\n",
    "print(k)\n",
    "print(y_val[n])"
   ]
  },
  {
   "cell_type": "code",
   "execution_count": 217,
   "metadata": {
    "colab": {
     "base_uri": "https://localhost:8080/",
     "height": 50
    },
    "colab_type": "code",
    "id": "8GDuYu_Hwbzv",
    "outputId": "405825e6-45ef-49d9-847c-a3b4c14be852"
   },
   "outputs": [
    {
     "name": "stdout",
     "output_type": "stream",
     "text": [
      "85/85 [==============================] - 7s 77ms/step - loss: 0.5153 - accuracy: 0.8193\n",
      "accuracy:  0.8192592859268188\n"
     ]
    }
   ],
   "source": [
    "#Evaluate validation set and then print accuracy\n",
    "results = model2.evaluate(X_val, y_val)\n",
    "print('accuracy: ', results[1])"
   ]
  },
  {
   "cell_type": "code",
   "execution_count": 0,
   "metadata": {
    "colab": {},
    "colab_type": "code",
    "collapsed": true,
    "id": "qf5cE5ZYwbz0"
   },
   "outputs": [],
   "source": [
    "#Getting prediction of test set\n",
    "prediction_test = model2.predict(X_test)"
   ]
  },
  {
   "cell_type": "code",
   "execution_count": 0,
   "metadata": {
    "colab": {},
    "colab_type": "code",
    "collapsed": true,
    "id": "6JRRis7hwbz4"
   },
   "outputs": [],
   "source": [
    "#Set threshold\n",
    "#we want the value to be either 0 or 1\n",
    "pred=np.zeros((1000,))\n",
    "count=0\n",
    "for i in prediction_test:\n",
    "    if i>0.5:  #Got .5 after many hit and try\n",
    "        pred[count]=1\n",
    "    \n",
    "    else:\n",
    "        pred[count]=0\n",
    "    \n",
    "    count+=1\n",
    "\n",
    "#Threshold is 0.5"
   ]
  },
  {
   "cell_type": "code",
   "execution_count": 220,
   "metadata": {
    "colab": {
     "base_uri": "https://localhost:8080/",
     "height": 302
    },
    "colab_type": "code",
    "id": "XwP6ycSswbz7",
    "outputId": "009c210b-b7e9-4ab0-9977-536e80038e09"
   },
   "outputs": [
    {
     "name": "stdout",
     "output_type": "stream",
     "text": [
      "accuracy : 0.8020\n",
      "F1 score : 0.8325\n",
      "precision score : 0.8159\n",
      "recall score : 0.8497\n",
      "Confusion Matrix:\n",
      " [[310 111]\n",
      " [ 87 492]] \n",
      "\n",
      "              precision    recall  f1-score   support\n",
      "\n",
      "           0       0.78      0.74      0.76       421\n",
      "           1       0.82      0.85      0.83       579\n",
      "\n",
      "    accuracy                           0.80      1000\n",
      "   macro avg       0.80      0.79      0.80      1000\n",
      "weighted avg       0.80      0.80      0.80      1000\n",
      "\n"
     ]
    }
   ],
   "source": [
    "#print accuracy score, f1 score, precision, recall and classification report\n",
    "print(\"accuracy : {0:.4f}\".format(accuracy_score(y_test,pred)))\n",
    "print(\"F1 score : {0:.4f}\".format(f1_score(y_test,pred)))\n",
    "print(\"precision score : {0:.4f}\".format(precision_score(y_test,pred)))\n",
    "print(\"recall score : {0:.4f}\".format(recall_score(y_test,pred)))\n",
    "print('Confusion Matrix:\\n',confusion_matrix(y_test,pred),'\\n')\n",
    "print(metrics.classification_report(y_test,pred))"
   ]
  },
  {
   "cell_type": "code",
   "execution_count": 221,
   "metadata": {
    "colab": {
     "base_uri": "https://localhost:8080/",
     "height": 34
    },
    "colab_type": "code",
    "id": "kbM5d-Jxwbz_",
    "outputId": "0b798fe5-c9c1-404a-cd4d-e7a5e7ddb22d"
   },
   "outputs": [
    {
     "name": "stdout",
     "output_type": "stream",
     "text": [
      "0.876369693016463\n"
     ]
    }
   ],
   "source": [
    "#print AUC for train set\n",
    "aucs = []\n",
    "for j in range(6):\n",
    "    auc = roc_auc_score(y_test, prediction_test)\n",
    "    aucs.append(auc)\n",
    "print(np.mean(aucs))"
   ]
  },
  {
   "cell_type": "code",
   "execution_count": 222,
   "metadata": {
    "colab": {
     "base_uri": "https://localhost:8080/",
     "height": 134
    },
    "colab_type": "code",
    "id": "Pr9evIY7wb0C",
    "outputId": "f1b20a82-0ff0-4f94-da96-607f76b6adc4"
   },
   "outputs": [
    {
     "name": "stdout",
     "output_type": "stream",
     "text": [
      "X_test shape =  (6300, 228, 228, 1)\n",
      "Shape of x =  (228, 228, 1)\n",
      "New Shape of x =  (1, 228, 228, 1)\n",
      "\n",
      "\n",
      "Predicted review =  1\n",
      "Actual value =  1\n"
     ]
    }
   ],
   "source": [
    "#prediction of 1 image\n",
    "n=1047\n",
    "print(\"X_test shape = \",X_train.shape) #To see shape of X_test\n",
    "\n",
    "x=X_train[n]  #Put test value in x\n",
    "print(\"Shape of x = \",x.shape)\n",
    "#AS you can see it is out of shape when comared to x_test because it is a single value therefore we need to reshape it\n",
    "\n",
    "x2=x.reshape(1,228,228,1) #Reshape to (1,300) so to put in our model if not done this step it will throw error as our model accept this shape only\n",
    "\n",
    "print(\"New Shape of x = \",x2.shape) #Cross check step to see our new shape\n",
    "\n",
    "P=model2.predict(x2) #predict x based on our model\n",
    "\n",
    "P2 = 1 if P>0.5 else 0  #Setting threshold if value less than 0.5 it is -ve review otherwise poistive\n",
    "\n",
    "print(\"\\n\")\n",
    "print(\"Predicted review = \",P2) #predicted review\n",
    "print(\"Actual value = \",y_train[n])"
   ]
  },
  {
   "cell_type": "code",
   "execution_count": 223,
   "metadata": {
    "colab": {
     "base_uri": "https://localhost:8080/",
     "height": 54
    },
    "colab_type": "code",
    "id": "Vjsj3UA1wb0F",
    "outputId": "cb41404c-f9f5-4d35-939e-fe760a8e807e"
   },
   "outputs": [
    {
     "name": "stdout",
     "output_type": "stream",
     "text": [
      "{'loss': [1.352181315422058, 0.8163520097732544, 0.6189776062965393, 0.5085605382919312, 0.3742290437221527, 0.30168598890304565, 0.27234265208244324, 0.2402999997138977, 0.23459134995937347, 0.22315408289432526], 'accuracy': [0.6612698435783386, 0.7230158448219299, 0.7698412537574768, 0.8107936382293701, 0.8539682626724243, 0.8776190280914307, 0.88698410987854, 0.9073016047477722, 0.9082539677619934, 0.9117460250854492], 'val_loss': [0.5394986271858215, 0.510090172290802, 0.582941472530365, 0.5653413534164429, 0.5037819147109985, 0.515320897102356, 0.5071996450424194, 0.5041027665138245, 0.5129035115242004, 0.5114420652389526], 'val_accuracy': [0.7818518280982971, 0.8074073791503906, 0.7818518280982971, 0.8025925755500793, 0.818148136138916, 0.8192592859268188, 0.8151851892471313, 0.818148136138916, 0.8118518590927124, 0.8166666626930237], 'lr': [0.001, 0.001, 0.001, 0.001, 0.00020000001, 0.00020000001, 0.00020000001, 4.0000003e-05, 4.0000003e-05, 8.000001e-06]}\n"
     ]
    }
   ],
   "source": [
    "#To see what out model stores info so that these can be plotted\n",
    "print(r.history)"
   ]
  },
  {
   "cell_type": "code",
   "execution_count": 224,
   "metadata": {
    "colab": {
     "base_uri": "https://localhost:8080/",
     "height": 282
    },
    "colab_type": "code",
    "id": "Qxd-41u-wb0I",
    "outputId": "260ecf6c-b47b-4257-ffdb-a31181b7dbe8"
   },
   "outputs": [
    {
     "data": {
      "image/png": "[encoded data removed]",
      "text/plain": [
       "<Figure size 432x288 with 1 Axes>"
      ]
     },
     "metadata": {
      "tags": []
     },
     "output_type": "display_data"
    }
   ],
   "source": [
    "# plot model loss\n",
    "plt.plot(r.history['loss'], label='loss')\n",
    "plt.plot(r.history['val_loss'], label='val_loss')\n",
    "plt.title('model loss')\n",
    "plt.legend()\n",
    "plt.show()"
   ]
  },
  {
   "cell_type": "code",
   "execution_count": 225,
   "metadata": {
    "colab": {
     "base_uri": "https://localhost:8080/",
     "height": 282
    },
    "colab_type": "code",
    "id": "KUTErOFywb0L",
    "outputId": "d13d891c-43dd-4b8f-d197-29d3a951aaf8"
   },
   "outputs": [
    {
     "data": {
      "image/png": "[encoded data removed]",
      "text/plain": [
       "<Figure size 432x288 with 1 Axes>"
      ]
     },
     "metadata": {
      "tags": []
     },
     "output_type": "display_data"
    }
   ],
   "source": [
    "#plot model accuracies\n",
    "plt.plot(r.history['accuracy'], label='acc')\n",
    "plt.plot(r.history['val_accuracy'], label='val_acc')\n",
    "plt.title('model accuracy')\n",
    "plt.legend()\n",
    "plt.show()"
   ]
  },
  {
   "cell_type": "code",
   "execution_count": 0,
   "metadata": {
    "colab": {},
    "colab_type": "code",
    "collapsed": true,
    "id": "vJ05FGEXwb0O"
   },
   "outputs": [],
   "source": []
  },
  {
   "cell_type": "code",
   "execution_count": 0,
   "metadata": {
    "colab": {},
    "colab_type": "code",
    "collapsed": true,
    "id": "1EFhTzo9wb0R"
   },
   "outputs": [],
   "source": []
  },
  {
   "cell_type": "markdown",
   "metadata": {
    "colab_type": "text",
    "id": "5o5jMyEVwb0W"
   },
   "source": [
    "### ResNet"
   ]
  },
  {
   "cell_type": "code",
   "execution_count": 0,
   "metadata": {
    "colab": {},
    "colab_type": "code",
    "collapsed": true,
    "id": "cxZ2hCgHwb0X"
   },
   "outputs": [],
   "source": [
    "#model building\n",
    "input_tensor = Input(shape=(228,228,1) )\n",
    "x2 = Conv2D(3, (3,3), padding='same', name=\"coords1\")(input_tensor) \n",
    "\n",
    "model3 = ResNet50(include_top=False, weights='imagenet', input_shape=(228, 228, 3))\n",
    "\n",
    "for layer in model3.layers:\n",
    "    layer.trainable = False\n",
    "\n",
    "x1 = model3(x2)\n",
    "\n",
    "x = Conv2D(3, (6,6), name=\"coords2\")(x1)\n",
    "x = Dropout(0.4)(x)\n",
    "\n",
    "\n",
    "x = Flatten()(x)\n",
    "\n",
    "x = Dense(128, activation='relu')(x)\n",
    "x = Dropout(0.4)(x)\n",
    "x = Dense(1, activation='sigmoid')(x)\n",
    "\n",
    "model3 = Model(inputs=input_tensor, outputs=x)"
   ]
  },
  {
   "cell_type": "code",
   "execution_count": 116,
   "metadata": {
    "colab": {
     "base_uri": "https://localhost:8080/",
     "height": 454
    },
    "colab_type": "code",
    "id": "7njE_2Xxwb0a",
    "outputId": "23d32926-083c-431b-bfcc-6e5f26764dbe"
   },
   "outputs": [
    {
     "name": "stdout",
     "output_type": "stream",
     "text": [
      "Model: \"model_3\"\n",
      "_________________________________________________________________\n",
      "Layer (type)                 Output Shape              Param #   \n",
      "=================================================================\n",
      "input_7 (InputLayer)         [(None, 228, 228, 1)]     0         \n",
      "_________________________________________________________________\n",
      "coords1 (Conv2D)             (None, 228, 228, 3)       30        \n",
      "_________________________________________________________________\n",
      "resnet50 (Model)             (None, 8, 8, 2048)        23587712  \n",
      "_________________________________________________________________\n",
      "coords2 (Conv2D)             (None, 3, 3, 3)           221187    \n",
      "_________________________________________________________________\n",
      "dropout_20 (Dropout)         (None, 3, 3, 3)           0         \n",
      "_________________________________________________________________\n",
      "flatten_9 (Flatten)          (None, 27)                0         \n",
      "_________________________________________________________________\n",
      "dense_22 (Dense)             (None, 128)               3584      \n",
      "_________________________________________________________________\n",
      "dropout_21 (Dropout)         (None, 128)               0         \n",
      "_________________________________________________________________\n",
      "dense_23 (Dense)             (None, 1)                 129       \n",
      "=================================================================\n",
      "Total params: 23,812,642\n",
      "Trainable params: 224,930\n",
      "Non-trainable params: 23,587,712\n",
      "_________________________________________________________________\n"
     ]
    }
   ],
   "source": [
    "#model summary\n",
    "model3.summary()"
   ]
  },
  {
   "cell_type": "code",
   "execution_count": 0,
   "metadata": {
    "colab": {},
    "colab_type": "code",
    "collapsed": true,
    "id": "oC1AtK-iwb0d"
   },
   "outputs": [],
   "source": [
    "#compiling model\n",
    "model3.compile(loss='binary_crossentropy', optimizer='adam', metrics=['accuracy'])"
   ]
  },
  {
   "cell_type": "code",
   "execution_count": 119,
   "metadata": {
    "colab": {
     "base_uri": "https://localhost:8080/",
     "height": 34
    },
    "colab_type": "code",
    "id": "vqAxplqmwb0h",
    "outputId": "4b2ee9b5-40fa-453f-c271-4997d704a7b5"
   },
   "outputs": [
    {
     "name": "stdout",
     "output_type": "stream",
     "text": [
      "WARNING:tensorflow:`period` argument is deprecated. Please use `save_freq` to specify the frequency in number of batches seen.\n"
     ]
    }
   ],
   "source": [
    "#Defining callbacks\n",
    "checkpoint = ModelCheckpoint(\"model-{loss:.2f}.h5\", monitor=\"val_accuracy\", verbose=1, save_best_only=True,\n",
    "                             save_weights_only=True, mode=\"max\", period=1)\n",
    "stop = EarlyStopping(monitor=\"loss\", patience=4, mode=\"min\")\n",
    "reduce_lr = ReduceLROnPlateau(monitor=\"val_loss\", factor=0.2, patience=2, min_lr=1e-6, verbose=1, mode=\"min\") "
   ]
  },
  {
   "cell_type": "code",
   "execution_count": 120,
   "metadata": {
    "colab": {
     "base_uri": "https://localhost:8080/",
     "height": 742
    },
    "colab_type": "code",
    "id": "PfJubMqiwb0k",
    "outputId": "d8f84db1-e9b6-40cf-87fd-4eb05386bb31"
   },
   "outputs": [
    {
     "name": "stdout",
     "output_type": "stream",
     "text": [
      "Epoch 1/10\n",
      "90/90 [==============================] - ETA: 0s - loss: 1.2261 - accuracy: 0.5106\n",
      "Epoch 00001: val_accuracy improved from -inf to 0.59259, saving model to model-1.23.h5\n",
      "90/90 [==============================] - 135s 1s/step - loss: 1.2261 - accuracy: 0.5106 - val_loss: 0.6707 - val_accuracy: 0.5926 - lr: 0.0010\n",
      "Epoch 2/10\n",
      "90/90 [==============================] - ETA: 0s - loss: 0.8487 - accuracy: 0.5275\n",
      "Epoch 00002: val_accuracy improved from 0.59259 to 0.69259, saving model to model-0.85.h5\n",
      "90/90 [==============================] - 133s 1s/step - loss: 0.8487 - accuracy: 0.5275 - val_loss: 0.6295 - val_accuracy: 0.6926 - lr: 0.0010\n",
      "Epoch 3/10\n",
      "90/90 [==============================] - ETA: 0s - loss: 0.7878 - accuracy: 0.5486\n",
      "Epoch 00003: val_accuracy did not improve from 0.69259\n",
      "90/90 [==============================] - 133s 1s/step - loss: 0.7878 - accuracy: 0.5486 - val_loss: 0.6474 - val_accuracy: 0.6089 - lr: 0.0010\n",
      "Epoch 4/10\n",
      "90/90 [==============================] - ETA: 0s - loss: 0.7196 - accuracy: 0.5970\n",
      "Epoch 00004: val_accuracy improved from 0.69259 to 0.71889, saving model to model-0.72.h5\n",
      "90/90 [==============================] - 133s 1s/step - loss: 0.7196 - accuracy: 0.5970 - val_loss: 0.5853 - val_accuracy: 0.7189 - lr: 0.0010\n",
      "Epoch 5/10\n",
      "90/90 [==============================] - ETA: 0s - loss: 0.6527 - accuracy: 0.6454\n",
      "Epoch 00005: val_accuracy improved from 0.71889 to 0.73222, saving model to model-0.65.h5\n",
      "90/90 [==============================] - 133s 1s/step - loss: 0.6527 - accuracy: 0.6454 - val_loss: 0.5823 - val_accuracy: 0.7322 - lr: 0.0010\n",
      "Epoch 6/10\n",
      "90/90 [==============================] - ETA: 0s - loss: 0.6603 - accuracy: 0.6592\n",
      "Epoch 00006: val_accuracy did not improve from 0.73222\n",
      "90/90 [==============================] - 132s 1s/step - loss: 0.6603 - accuracy: 0.6592 - val_loss: 0.6098 - val_accuracy: 0.7044 - lr: 0.0010\n",
      "Epoch 7/10\n",
      "90/90 [==============================] - ETA: 0s - loss: 0.6019 - accuracy: 0.6937\n",
      "Epoch 00007: val_accuracy did not improve from 0.73222\n",
      "90/90 [==============================] - 133s 1s/step - loss: 0.6019 - accuracy: 0.6937 - val_loss: 0.5434 - val_accuracy: 0.7315 - lr: 0.0010\n",
      "Epoch 8/10\n",
      "90/90 [==============================] - ETA: 0s - loss: 0.5880 - accuracy: 0.7100\n",
      "Epoch 00008: val_accuracy improved from 0.73222 to 0.74630, saving model to model-0.59.h5\n",
      "90/90 [==============================] - 133s 1s/step - loss: 0.5880 - accuracy: 0.7100 - val_loss: 0.5589 - val_accuracy: 0.7463 - lr: 0.0010\n",
      "Epoch 9/10\n",
      "90/90 [==============================] - ETA: 0s - loss: 0.5841 - accuracy: 0.7156\n",
      "Epoch 00009: val_accuracy did not improve from 0.74630\n",
      "\n",
      "Epoch 00009: ReduceLROnPlateau reducing learning rate to 0.00020000000949949026.\n",
      "90/90 [==============================] - 132s 1s/step - loss: 0.5841 - accuracy: 0.7156 - val_loss: 0.5537 - val_accuracy: 0.7233 - lr: 0.0010\n",
      "Epoch 10/10\n",
      "90/90 [==============================] - ETA: 0s - loss: 0.5402 - accuracy: 0.7405\n",
      "Epoch 00010: val_accuracy improved from 0.74630 to 0.75000, saving model to model-0.54.h5\n",
      "90/90 [==============================] - 133s 1s/step - loss: 0.5402 - accuracy: 0.7405 - val_loss: 0.5215 - val_accuracy: 0.7500 - lr: 2.0000e-04\n"
     ]
    }
   ],
   "source": [
    "#Fitting model\n",
    "r = model3.fit(\n",
    "  X_train,\n",
    "  y_train,\n",
    "  batch_size=70,\n",
    "  epochs=10,\n",
    "  validation_data=(X_val,y_val),\n",
    "  callbacks=[checkpoint, reduce_lr, stop],\n",
    "  verbose=1\n",
    ")"
   ]
  },
  {
   "cell_type": "code",
   "execution_count": 165,
   "metadata": {
    "colab": {
     "base_uri": "https://localhost:8080/",
     "height": 50
    },
    "colab_type": "code",
    "id": "nQxl-Dhlwb0n",
    "outputId": "c42bd805-a528-49f7-f735-23d4b8640d85"
   },
   "outputs": [
    {
     "name": "stdout",
     "output_type": "stream",
     "text": [
      "[[0.79931515]]\n",
      "1\n"
     ]
    }
   ],
   "source": [
    "#predicting one image from validation step\n",
    "n=121\n",
    "img=X_val[n].reshape(1,228,228,1)\n",
    "k=model3.predict(img)\n",
    "print(k)\n",
    "print(y_val[n])"
   ]
  },
  {
   "cell_type": "code",
   "execution_count": 166,
   "metadata": {
    "colab": {
     "base_uri": "https://localhost:8080/",
     "height": 50
    },
    "colab_type": "code",
    "id": "AKgy9czjwb0q",
    "outputId": "8ecc842a-8209-46da-d742-3243c32a4b29"
   },
   "outputs": [
    {
     "name": "stdout",
     "output_type": "stream",
     "text": [
      "85/85 [==============================] - 20s 237ms/step - loss: 0.5215 - accuracy: 0.7500\n",
      "accuracy:  0.75\n"
     ]
    }
   ],
   "source": [
    "#Evaluate validation set and then print accuracy\n",
    "results = model3.evaluate(X_val, y_val)\n",
    "print('accuracy: ', results[1])"
   ]
  },
  {
   "cell_type": "code",
   "execution_count": 0,
   "metadata": {
    "colab": {},
    "colab_type": "code",
    "collapsed": true,
    "id": "hiotDbXswb0u"
   },
   "outputs": [],
   "source": [
    "#Getting prediction of test set\n",
    "prediction_test = model3.predict(X_test)"
   ]
  },
  {
   "cell_type": "code",
   "execution_count": 0,
   "metadata": {
    "colab": {},
    "colab_type": "code",
    "collapsed": true,
    "id": "NczCBpOUwb00"
   },
   "outputs": [],
   "source": [
    "#Set threshold\n",
    "#we want the value to be either 0 or 1\n",
    "pred=np.zeros((1000,))\n",
    "count=0\n",
    "for i in prediction_test:\n",
    "    if i>0.5:  #Got .5 after many hit and try\n",
    "        pred[count]=1\n",
    "    \n",
    "    else:\n",
    "        pred[count]=0\n",
    "    \n",
    "    count+=1\n",
    "\n",
    "#Threshold is 0.5"
   ]
  },
  {
   "cell_type": "code",
   "execution_count": 169,
   "metadata": {
    "colab": {
     "base_uri": "https://localhost:8080/",
     "height": 302
    },
    "colab_type": "code",
    "id": "yDhFfDWswb02",
    "outputId": "3d3796fc-5db8-4e77-8011-f59d860e144d"
   },
   "outputs": [
    {
     "name": "stdout",
     "output_type": "stream",
     "text": [
      "accuracy : 0.7470\n",
      "F1 score : 0.7981\n",
      "precision score : 0.7418\n",
      "recall score : 0.8636\n",
      "Confusion Matrix:\n",
      " [[247 174]\n",
      " [ 79 500]] \n",
      "\n",
      "              precision    recall  f1-score   support\n",
      "\n",
      "           0       0.76      0.59      0.66       421\n",
      "           1       0.74      0.86      0.80       579\n",
      "\n",
      "    accuracy                           0.75      1000\n",
      "   macro avg       0.75      0.73      0.73      1000\n",
      "weighted avg       0.75      0.75      0.74      1000\n",
      "\n"
     ]
    }
   ],
   "source": [
    "#print accuracy score, f1 score, precision, recall and classification report\n",
    "print(\"accuracy : {0:.4f}\".format(accuracy_score(y_test,pred)))\n",
    "print(\"F1 score : {0:.4f}\".format(f1_score(y_test,pred)))\n",
    "print(\"precision score : {0:.4f}\".format(precision_score(y_test,pred)))\n",
    "print(\"recall score : {0:.4f}\".format(recall_score(y_test,pred)))\n",
    "print('Confusion Matrix:\\n',confusion_matrix(y_test,pred),'\\n')\n",
    "print(metrics.classification_report(y_test,pred))"
   ]
  },
  {
   "cell_type": "code",
   "execution_count": 127,
   "metadata": {
    "colab": {
     "base_uri": "https://localhost:8080/",
     "height": 34
    },
    "colab_type": "code",
    "id": "N6Bzj-h0wb05",
    "outputId": "07ed0a92-2836-41e2-9522-d07827f8c781"
   },
   "outputs": [
    {
     "name": "stdout",
     "output_type": "stream",
     "text": [
      "0.8327897636600085\n"
     ]
    }
   ],
   "source": [
    "#print AUC for train set\n",
    "aucs = []\n",
    "for j in range(6):\n",
    "    auc = roc_auc_score(y_test, prediction_test)\n",
    "    aucs.append(auc)\n",
    "print(np.mean(aucs))"
   ]
  },
  {
   "cell_type": "code",
   "execution_count": 128,
   "metadata": {
    "colab": {
     "base_uri": "https://localhost:8080/",
     "height": 134
    },
    "colab_type": "code",
    "id": "AUPxqHy2wb07",
    "outputId": "5083ee8a-208c-41f5-ae89-7fb740a1d998"
   },
   "outputs": [
    {
     "name": "stdout",
     "output_type": "stream",
     "text": [
      "X_test shape =  (6300, 228, 228, 1)\n",
      "Shape of x =  (228, 228, 1)\n",
      "New Shape of x =  (1, 228, 228, 1)\n",
      "\n",
      "\n",
      "Predicted review =  1\n",
      "Actual value =  1\n"
     ]
    }
   ],
   "source": [
    "#prediction of 1 image\n",
    "n=104\n",
    "print(\"X_test shape = \",X_train.shape) #To see shape of X_test\n",
    "\n",
    "x=X_train[n]  #Put test value in x\n",
    "print(\"Shape of x = \",x.shape)\n",
    "#AS you can see it is out of shape when comared to x_test because it is a single value therefore we need to reshape it\n",
    "\n",
    "x2=x.reshape(1,228,228,1) #Reshape to (1,300) so to put in our model if not done this step it will throw error as our model accept this shape only\n",
    "\n",
    "print(\"New Shape of x = \",x2.shape) #Cross check step to see our new shape\n",
    "\n",
    "P=model3.predict(x2) #predict x based on our model\n",
    "\n",
    "P2 = 1 if P>0.5 else 0  #Setting threshold if value less than 0.5 it is -ve review otherwise poistive\n",
    "\n",
    "print(\"\\n\")\n",
    "print(\"Predicted review = \",P2) #predicted review\n",
    "print(\"Actual value = \",y_train[n])"
   ]
  },
  {
   "cell_type": "code",
   "execution_count": 129,
   "metadata": {
    "colab": {
     "base_uri": "https://localhost:8080/",
     "height": 54
    },
    "colab_type": "code",
    "id": "41qQ5icDwb0-",
    "outputId": "553c378d-6823-4e3e-e85e-8dd989b97bcd"
   },
   "outputs": [
    {
     "name": "stdout",
     "output_type": "stream",
     "text": [
      "{'loss': [1.2261298894882202, 0.8486518263816833, 0.7877516746520996, 0.719620406627655, 0.6527297496795654, 0.6603070497512817, 0.6018590331077576, 0.5880072116851807, 0.5840732455253601, 0.540191113948822], 'accuracy': [0.5106348991394043, 0.5274603366851807, 0.5485714077949524, 0.5969841480255127, 0.6453968286514282, 0.6592063307762146, 0.6936507821083069, 0.7099999785423279, 0.7155555486679077, 0.7404761910438538], 'val_loss': [0.6706786155700684, 0.629508376121521, 0.6473796963691711, 0.5852795839309692, 0.5822733640670776, 0.6097597479820251, 0.5434492826461792, 0.5589173436164856, 0.5536693334579468, 0.521477997303009], 'val_accuracy': [0.5925925970077515, 0.6925926208496094, 0.6088888645172119, 0.7188888788223267, 0.7322221994400024, 0.7044444680213928, 0.7314814925193787, 0.7462962865829468, 0.7233333587646484, 0.75], 'lr': [0.001, 0.001, 0.001, 0.001, 0.001, 0.001, 0.001, 0.001, 0.001, 0.00020000001]}\n"
     ]
    }
   ],
   "source": [
    "#To see what out model stores info so that these can be plotted\n",
    "print(r.history)"
   ]
  },
  {
   "cell_type": "code",
   "execution_count": 130,
   "metadata": {
    "colab": {
     "base_uri": "https://localhost:8080/",
     "height": 282
    },
    "colab_type": "code",
    "id": "40aRFVVXwb1E",
    "outputId": "f12f295a-8279-4500-e5c1-91885c495c7e"
   },
   "outputs": [
    {
     "data": {
      "image/png": "[encoded data removed]",
      "text/plain": [
       "<Figure size 432x288 with 1 Axes>"
      ]
     },
     "metadata": {
      "tags": []
     },
     "output_type": "display_data"
    }
   ],
   "source": [
    "# plot model loss\n",
    "plt.plot(r.history['loss'], label='loss')\n",
    "plt.plot(r.history['val_loss'], label='val_loss')\n",
    "plt.title('model loss')\n",
    "plt.legend()\n",
    "plt.show()"
   ]
  },
  {
   "cell_type": "code",
   "execution_count": 131,
   "metadata": {
    "colab": {
     "base_uri": "https://localhost:8080/",
     "height": 282
    },
    "colab_type": "code",
    "id": "orxnFZiywb1K",
    "outputId": "62a6be65-779a-4906-9b38-7d0e70386242"
   },
   "outputs": [
    {
     "data": {
      "image/png": "[encoded data removed]",
      "text/plain": [
       "<Figure size 432x288 with 1 Axes>"
      ]
     },
     "metadata": {
      "tags": []
     },
     "output_type": "display_data"
    }
   ],
   "source": [
    "#plot model accuracies\n",
    "plt.plot(r.history['accuracy'], label='acc')\n",
    "plt.plot(r.history['val_accuracy'], label='val_acc')\n",
    "plt.title('model accuracy')\n",
    "plt.legend()\n",
    "plt.show()"
   ]
  },
  {
   "cell_type": "code",
   "execution_count": 0,
   "metadata": {
    "colab": {},
    "colab_type": "code",
    "collapsed": true,
    "id": "v63wm7Wjwb1N"
   },
   "outputs": [],
   "source": []
  },
  {
   "cell_type": "code",
   "execution_count": 0,
   "metadata": {
    "colab": {},
    "colab_type": "code",
    "collapsed": true,
    "id": "jx1z64nywb1Q"
   },
   "outputs": [],
   "source": []
  },
  {
   "cell_type": "markdown",
   "metadata": {
    "colab_type": "text",
    "id": "vXsEgJJkwb1T"
   },
   "source": [
    "### VGG19 "
   ]
  },
  {
   "cell_type": "code",
   "execution_count": 132,
   "metadata": {
    "colab": {
     "base_uri": "https://localhost:8080/",
     "height": 50
    },
    "colab_type": "code",
    "id": "IU_LE7UNwb1T",
    "outputId": "0959980c-6661-4ee7-bffb-18c0176066fb"
   },
   "outputs": [
    {
     "name": "stdout",
     "output_type": "stream",
     "text": [
      "Downloading data from https://storage.googleapis.com/tensorflow/keras-applications/vgg19/vgg19_weights_tf_dim_ordering_tf_kernels_notop.h5\n",
      "80142336/80134624 [==============================] - 1s 0us/step\n"
     ]
    }
   ],
   "source": [
    "#model building\n",
    "input_tensor = Input(shape=(228,228,1) )\n",
    "x2 = Conv2D(3, (3,3), padding='same', name=\"coords1\")(input_tensor) \n",
    "\n",
    "model4 = VGG19(include_top=False, input_shape=(228, 228, 3), weights = \"imagenet\")\n",
    "\n",
    "\n",
    "for layer in model4.layers:\n",
    "    layer.trainable = False\n",
    "    \n",
    "x1 = model4(x2)\n",
    "\n",
    "x = Conv2D(3, (6,6), name=\"coords2\")(x1)\n",
    "x = Dropout(0.4)(x)\n",
    "\n",
    "\n",
    "x = Flatten()(x)\n",
    "\n",
    "x = Dense(128, activation='relu')(x)\n",
    "x = Dropout(0.4)(x)\n",
    "x = Dense(1, activation='sigmoid')(x)\n",
    "\n",
    "model4 = Model(inputs=input_tensor, outputs=x)"
   ]
  },
  {
   "cell_type": "code",
   "execution_count": 133,
   "metadata": {
    "colab": {
     "base_uri": "https://localhost:8080/",
     "height": 454
    },
    "colab_type": "code",
    "id": "h5zzMDi_wb1X",
    "outputId": "45cf6e14-3b9c-4d0a-e9ce-3be83b0f1348"
   },
   "outputs": [
    {
     "name": "stdout",
     "output_type": "stream",
     "text": [
      "Model: \"model_4\"\n",
      "_________________________________________________________________\n",
      "Layer (type)                 Output Shape              Param #   \n",
      "=================================================================\n",
      "input_9 (InputLayer)         [(None, 228, 228, 1)]     0         \n",
      "_________________________________________________________________\n",
      "coords1 (Conv2D)             (None, 228, 228, 3)       30        \n",
      "_________________________________________________________________\n",
      "vgg19 (Model)                (None, 7, 7, 512)         20024384  \n",
      "_________________________________________________________________\n",
      "coords2 (Conv2D)             (None, 2, 2, 3)           55299     \n",
      "_________________________________________________________________\n",
      "dropout_22 (Dropout)         (None, 2, 2, 3)           0         \n",
      "_________________________________________________________________\n",
      "flatten_10 (Flatten)         (None, 12)                0         \n",
      "_________________________________________________________________\n",
      "dense_24 (Dense)             (None, 128)               1664      \n",
      "_________________________________________________________________\n",
      "dropout_23 (Dropout)         (None, 128)               0         \n",
      "_________________________________________________________________\n",
      "dense_25 (Dense)             (None, 1)                 129       \n",
      "=================================================================\n",
      "Total params: 20,081,506\n",
      "Trainable params: 57,122\n",
      "Non-trainable params: 20,024,384\n",
      "_________________________________________________________________\n"
     ]
    }
   ],
   "source": [
    "#printing model summary\n",
    "model4.summary()"
   ]
  },
  {
   "cell_type": "code",
   "execution_count": 0,
   "metadata": {
    "colab": {},
    "colab_type": "code",
    "collapsed": true,
    "id": "UTLj3wc6wb1a"
   },
   "outputs": [],
   "source": [
    "#Compiling the model\n",
    "model4.compile(loss='binary_crossentropy', optimizer='adam', metrics=['accuracy'])"
   ]
  },
  {
   "cell_type": "code",
   "execution_count": 135,
   "metadata": {
    "colab": {
     "base_uri": "https://localhost:8080/",
     "height": 34
    },
    "colab_type": "code",
    "id": "MqoNLEl7wb1c",
    "outputId": "94e4e77a-4b73-4956-ee5d-975f067dab44"
   },
   "outputs": [
    {
     "name": "stdout",
     "output_type": "stream",
     "text": [
      "WARNING:tensorflow:`period` argument is deprecated. Please use `save_freq` to specify the frequency in number of batches seen.\n"
     ]
    }
   ],
   "source": [
    "#Defining callbacks\n",
    "checkpoint = ModelCheckpoint(\"model-{loss:.2f}.h5\", monitor=\"val_accuracy\", verbose=1, save_best_only=True,\n",
    "                             save_weights_only=True, mode=\"max\", period=1)\n",
    "stop = EarlyStopping(monitor=\"loss\", patience=4, mode=\"min\")\n",
    "reduce_lr = ReduceLROnPlateau(monitor=\"val_loss\", factor=0.2, patience=2, min_lr=1e-6, verbose=1, mode=\"min\") "
   ]
  },
  {
   "cell_type": "code",
   "execution_count": 136,
   "metadata": {
    "colab": {
     "base_uri": "https://localhost:8080/",
     "height": 776
    },
    "colab_type": "code",
    "id": "gdFw2gOswb1g",
    "outputId": "264797cd-b2b9-4817-9290-a2777cb61aeb"
   },
   "outputs": [
    {
     "name": "stdout",
     "output_type": "stream",
     "text": [
      "Epoch 1/10\n",
      "90/90 [==============================] - ETA: 0s - loss: 0.6148 - accuracy: 0.6629\n",
      "Epoch 00001: val_accuracy improved from -inf to 0.75185, saving model to model-0.61.h5\n",
      "90/90 [==============================] - 183s 2s/step - loss: 0.6148 - accuracy: 0.6629 - val_loss: 0.4958 - val_accuracy: 0.7519 - lr: 0.0010\n",
      "Epoch 2/10\n",
      "90/90 [==============================] - ETA: 0s - loss: 0.5373 - accuracy: 0.7444\n",
      "Epoch 00002: val_accuracy did not improve from 0.75185\n",
      "90/90 [==============================] - 183s 2s/step - loss: 0.5373 - accuracy: 0.7444 - val_loss: 0.5100 - val_accuracy: 0.7444 - lr: 0.0010\n",
      "Epoch 3/10\n",
      "90/90 [==============================] - ETA: 0s - loss: 0.4998 - accuracy: 0.7679\n",
      "Epoch 00003: val_accuracy improved from 0.75185 to 0.76148, saving model to model-0.50.h5\n",
      "90/90 [==============================] - 183s 2s/step - loss: 0.4998 - accuracy: 0.7679 - val_loss: 0.4842 - val_accuracy: 0.7615 - lr: 0.0010\n",
      "Epoch 4/10\n",
      "90/90 [==============================] - ETA: 0s - loss: 0.4950 - accuracy: 0.7713\n",
      "Epoch 00004: val_accuracy improved from 0.76148 to 0.76963, saving model to model-0.49.h5\n",
      "90/90 [==============================] - 183s 2s/step - loss: 0.4950 - accuracy: 0.7713 - val_loss: 0.4706 - val_accuracy: 0.7696 - lr: 0.0010\n",
      "Epoch 5/10\n",
      "90/90 [==============================] - ETA: 0s - loss: 0.4746 - accuracy: 0.7846\n",
      "Epoch 00005: val_accuracy improved from 0.76963 to 0.77074, saving model to model-0.47.h5\n",
      "90/90 [==============================] - 183s 2s/step - loss: 0.4746 - accuracy: 0.7846 - val_loss: 0.4708 - val_accuracy: 0.7707 - lr: 0.0010\n",
      "Epoch 6/10\n",
      "90/90 [==============================] - ETA: 0s - loss: 0.4687 - accuracy: 0.7805\n",
      "Epoch 00006: val_accuracy did not improve from 0.77074\n",
      "\n",
      "Epoch 00006: ReduceLROnPlateau reducing learning rate to 0.00020000000949949026.\n",
      "90/90 [==============================] - 183s 2s/step - loss: 0.4687 - accuracy: 0.7805 - val_loss: 0.4794 - val_accuracy: 0.7681 - lr: 0.0010\n",
      "Epoch 7/10\n",
      "90/90 [==============================] - ETA: 0s - loss: 0.4272 - accuracy: 0.8127\n",
      "Epoch 00007: val_accuracy improved from 0.77074 to 0.78111, saving model to model-0.43.h5\n",
      "90/90 [==============================] - 183s 2s/step - loss: 0.4272 - accuracy: 0.8127 - val_loss: 0.4603 - val_accuracy: 0.7811 - lr: 2.0000e-04\n",
      "Epoch 8/10\n",
      "90/90 [==============================] - ETA: 0s - loss: 0.4266 - accuracy: 0.8137\n",
      "Epoch 00008: val_accuracy did not improve from 0.78111\n",
      "90/90 [==============================] - 183s 2s/step - loss: 0.4266 - accuracy: 0.8137 - val_loss: 0.4813 - val_accuracy: 0.7781 - lr: 2.0000e-04\n",
      "Epoch 9/10\n",
      "90/90 [==============================] - ETA: 0s - loss: 0.4244 - accuracy: 0.8122\n",
      "Epoch 00009: val_accuracy improved from 0.78111 to 0.78444, saving model to model-0.42.h5\n",
      "\n",
      "Epoch 00009: ReduceLROnPlateau reducing learning rate to 4.0000001899898055e-05.\n",
      "90/90 [==============================] - 183s 2s/step - loss: 0.4244 - accuracy: 0.8122 - val_loss: 0.4660 - val_accuracy: 0.7844 - lr: 2.0000e-04\n",
      "Epoch 10/10\n",
      "90/90 [==============================] - ETA: 0s - loss: 0.4092 - accuracy: 0.8232\n",
      "Epoch 00010: val_accuracy improved from 0.78444 to 0.78667, saving model to model-0.41.h5\n",
      "90/90 [==============================] - 183s 2s/step - loss: 0.4092 - accuracy: 0.8232 - val_loss: 0.4587 - val_accuracy: 0.7867 - lr: 4.0000e-05\n"
     ]
    }
   ],
   "source": [
    "#fitting model to traing set\n",
    "r = model4.fit(\n",
    "  X_train,\n",
    "  y_train,\n",
    "  batch_size=70,\n",
    "  epochs=10,\n",
    "  validation_data=(X_val,y_val),\n",
    "  callbacks=[checkpoint, reduce_lr, stop],\n",
    "  verbose=1\n",
    ")"
   ]
  },
  {
   "cell_type": "code",
   "execution_count": 137,
   "metadata": {
    "colab": {
     "base_uri": "https://localhost:8080/",
     "height": 50
    },
    "colab_type": "code",
    "id": "UcQ2kZBJwb1j",
    "outputId": "41cc7a20-37d8-44e5-fc5f-e81d0793ed89"
   },
   "outputs": [
    {
     "name": "stdout",
     "output_type": "stream",
     "text": [
      "[[0.9681045]]\n",
      "1\n"
     ]
    }
   ],
   "source": [
    "#predicting one image from validation step\n",
    "n=121\n",
    "img=X_val[n].reshape(1,228,228,1)\n",
    "k=model4.predict(img)\n",
    "print(k)\n",
    "print(y_val[n])"
   ]
  },
  {
   "cell_type": "code",
   "execution_count": 138,
   "metadata": {
    "colab": {
     "base_uri": "https://localhost:8080/",
     "height": 50
    },
    "colab_type": "code",
    "id": "hrggUIWFwb1m",
    "outputId": "0e90fbd3-bbd2-411f-830e-36378ee7e0d9"
   },
   "outputs": [
    {
     "name": "stdout",
     "output_type": "stream",
     "text": [
      "85/85 [==============================] - 32s 371ms/step - loss: 0.4587 - accuracy: 0.7867\n",
      "accuracy:  0.7866666913032532\n"
     ]
    }
   ],
   "source": [
    "#Evaluate validation set and then print accuracy\n",
    "results = model4.evaluate(X_val, y_val)\n",
    "print('accuracy: ', results[1])"
   ]
  },
  {
   "cell_type": "code",
   "execution_count": 0,
   "metadata": {
    "colab": {},
    "colab_type": "code",
    "collapsed": true,
    "id": "gE0mWyFOwb1p"
   },
   "outputs": [],
   "source": [
    "#Getting prediction of test set\n",
    "prediction_test = model4.predict(X_test)"
   ]
  },
  {
   "cell_type": "code",
   "execution_count": 0,
   "metadata": {
    "colab": {},
    "colab_type": "code",
    "collapsed": true,
    "id": "Z1oox6hvwb1v"
   },
   "outputs": [],
   "source": [
    "#Set threshold\n",
    "#we want the value to be either 0 or 1\n",
    "pred=np.zeros((1000,))\n",
    "count=0\n",
    "for i in prediction_test:\n",
    "    if i>0.5:  #Got .5 after many hit and try\n",
    "        pred[count]=1\n",
    "    \n",
    "    else:\n",
    "        pred[count]=0\n",
    "    \n",
    "    count+=1\n",
    "\n",
    "#Threshold is 0.5"
   ]
  },
  {
   "cell_type": "code",
   "execution_count": 141,
   "metadata": {
    "colab": {
     "base_uri": "https://localhost:8080/",
     "height": 302
    },
    "colab_type": "code",
    "id": "UalLXOQowb1y",
    "outputId": "0f741749-327c-47b2-9a2a-32b1a1bd5fd3"
   },
   "outputs": [
    {
     "name": "stdout",
     "output_type": "stream",
     "text": [
      "accuracy : 0.7870\n",
      "F1 score : 0.8206\n",
      "precision score : 0.8010\n",
      "recall score : 0.8411\n",
      "Confusion Matrix:\n",
      " [[300 121]\n",
      " [ 92 487]] \n",
      "\n",
      "              precision    recall  f1-score   support\n",
      "\n",
      "           0       0.77      0.71      0.74       421\n",
      "           1       0.80      0.84      0.82       579\n",
      "\n",
      "    accuracy                           0.79      1000\n",
      "   macro avg       0.78      0.78      0.78      1000\n",
      "weighted avg       0.79      0.79      0.79      1000\n",
      "\n"
     ]
    }
   ],
   "source": [
    "#print accuracy score, f1 score, precision, recall and classification report\n",
    "print(\"accuracy : {0:.4f}\".format(accuracy_score(y_test,pred)))\n",
    "print(\"F1 score : {0:.4f}\".format(f1_score(y_test,pred)))\n",
    "print(\"precision score : {0:.4f}\".format(precision_score(y_test,pred)))\n",
    "print(\"recall score : {0:.4f}\".format(recall_score(y_test,pred)))\n",
    "print('Confusion Matrix:\\n',confusion_matrix(y_test,pred),'\\n')\n",
    "print(metrics.classification_report(y_test,pred))"
   ]
  },
  {
   "cell_type": "code",
   "execution_count": 142,
   "metadata": {
    "colab": {
     "base_uri": "https://localhost:8080/",
     "height": 34
    },
    "colab_type": "code",
    "id": "kVsmOiNqwb11",
    "outputId": "ddab6ccc-f23c-4185-d637-0b54bcfd22fa"
   },
   "outputs": [
    {
     "name": "stdout",
     "output_type": "stream",
     "text": [
      "0.8604236151280568\n"
     ]
    }
   ],
   "source": [
    "#print AUC for train set\n",
    "aucs = []\n",
    "for j in range(6):\n",
    "    auc = roc_auc_score(y_test, prediction_test)\n",
    "    aucs.append(auc)\n",
    "print(np.mean(aucs))"
   ]
  },
  {
   "cell_type": "code",
   "execution_count": 147,
   "metadata": {
    "colab": {
     "base_uri": "https://localhost:8080/",
     "height": 134
    },
    "colab_type": "code",
    "id": "dhrn2Gm3wb14",
    "outputId": "696fd581-d9ee-4462-95cd-2bf82dbc0bbf"
   },
   "outputs": [
    {
     "name": "stdout",
     "output_type": "stream",
     "text": [
      "X_test shape =  (1000, 228, 228, 1)\n",
      "Shape of x =  (228, 228, 1)\n",
      "New Shape of x =  (1, 228, 228, 1)\n",
      "\n",
      "\n",
      "Predicted review =  1\n",
      "Actual value =  1\n"
     ]
    }
   ],
   "source": [
    "#prediction of 1 image\n",
    "n=321\n",
    "print(\"X_test shape = \",X_test.shape) #To see shape of X_test\n",
    "\n",
    "x=X_test[n]  #Put test value in x\n",
    "print(\"Shape of x = \",x.shape)\n",
    "#AS you can see it is out of shape when comared to x_test because it is a single value therefore we need to reshape it\n",
    "\n",
    "x2=x.reshape(1,228,228,1) #Reshape to (1,300) so to put in our model if not done this step it will throw error as our model accept this shape only\n",
    "\n",
    "print(\"New Shape of x = \",x2.shape) #Cross check step to see our new shape\n",
    "\n",
    "P=model4.predict(x2) #predict x based on our model\n",
    "\n",
    "P2 = 1 if P>0.5 else 0  #Setting threshold if value less than 0.5 it is -ve review otherwise poistive\n",
    "\n",
    "print(\"\\n\")\n",
    "print(\"Predicted review = \",P2) #predicted review\n",
    "print(\"Actual value = \",y_test[n])"
   ]
  },
  {
   "cell_type": "code",
   "execution_count": 144,
   "metadata": {
    "colab": {
     "base_uri": "https://localhost:8080/",
     "height": 54
    },
    "colab_type": "code",
    "id": "UYyuixXzwb1_",
    "outputId": "67b493de-5fd6-40f7-e745-8bdbc4b2aa32"
   },
   "outputs": [
    {
     "name": "stdout",
     "output_type": "stream",
     "text": [
      "{'loss': [0.6148116588592529, 0.5372610688209534, 0.4998364746570587, 0.4949764013290405, 0.47462666034698486, 0.46865415573120117, 0.4272306263446808, 0.42659759521484375, 0.4243854880332947, 0.40916046500205994], 'accuracy': [0.6628571152687073, 0.7444444298744202, 0.7679365277290344, 0.7712698578834534, 0.7846031785011292, 0.7804762125015259, 0.8126984238624573, 0.8136507868766785, 0.8122222423553467, 0.8231745958328247], 'val_loss': [0.4958477020263672, 0.5099705457687378, 0.4841715097427368, 0.4706335961818695, 0.47079232335090637, 0.4793902039527893, 0.46030381321907043, 0.4812871515750885, 0.46601301431655884, 0.4586816430091858], 'val_accuracy': [0.7518518567085266, 0.7444444298744202, 0.7614814639091492, 0.7696296572685242, 0.7707407474517822, 0.7681481242179871, 0.7811111211776733, 0.7781481742858887, 0.7844444513320923, 0.7866666913032532], 'lr': [0.001, 0.001, 0.001, 0.001, 0.001, 0.001, 0.00020000001, 0.00020000001, 0.00020000001, 4.0000003e-05]}\n"
     ]
    }
   ],
   "source": [
    "#To see what out model stores info so that these can be plotted\n",
    "print(r.history)"
   ]
  },
  {
   "cell_type": "code",
   "execution_count": 145,
   "metadata": {
    "colab": {
     "base_uri": "https://localhost:8080/",
     "height": 282
    },
    "colab_type": "code",
    "id": "F8bwmM7lwb2B",
    "outputId": "fa90e9e9-1658-4456-bbea-001bd693a183"
   },
   "outputs": [
    {
     "data": {
      "image/png": "[encoded data removed]",
      "text/plain": [
       "<Figure size 432x288 with 1 Axes>"
      ]
     },
     "metadata": {
      "tags": []
     },
     "output_type": "display_data"
    }
   ],
   "source": [
    "# plot model loss\n",
    "plt.plot(r.history['loss'], label='loss')\n",
    "plt.plot(r.history['val_loss'], label='val_loss')\n",
    "plt.title('model loss')\n",
    "plt.legend()\n",
    "plt.show()"
   ]
  },
  {
   "cell_type": "code",
   "execution_count": 146,
   "metadata": {
    "colab": {
     "base_uri": "https://localhost:8080/",
     "height": 282
    },
    "colab_type": "code",
    "id": "r1nBi3cJwb2E",
    "outputId": "7add60f8-776c-480f-b1d4-58343614047f"
   },
   "outputs": [
    {
     "data": {
      "image/png": "[encoded data removed]",
      "text/plain": [
       "<Figure size 432x288 with 1 Axes>"
      ]
     },
     "metadata": {
      "tags": []
     },
     "output_type": "display_data"
    }
   ],
   "source": [
    "#plot model accuracies\n",
    "plt.plot(r.history['accuracy'], label='acc')\n",
    "plt.plot(r.history['val_accuracy'], label='val_acc')\n",
    "plt.title('model accuracy')\n",
    "plt.legend()\n",
    "plt.show()"
   ]
  },
  {
   "cell_type": "code",
   "execution_count": 0,
   "metadata": {
    "colab": {},
    "colab_type": "code",
    "collapsed": true,
    "id": "BWcwAWYLwb2I"
   },
   "outputs": [],
   "source": []
  },
  {
   "cell_type": "markdown",
   "metadata": {
    "colab_type": "text",
    "id": "0i4PXa91sAEL"
   },
   "source": [
    "CHEXNET"
   ]
  },
  {
   "cell_type": "code",
   "execution_count": 163,
   "metadata": {
    "colab": {
     "base_uri": "https://localhost:8080/",
     "height": 756
    },
    "colab_type": "code",
    "id": "BjWEfD9qqsn2",
    "outputId": "ff9dafcc-f458-4aca-e028-77f140a0f96d"
   },
   "outputs": [
    {
     "name": "stdout",
     "output_type": "stream",
     "text": [
      "Model: \"sequential_12\"\n",
      "_________________________________________________________________\n",
      "Layer (type)                 Output Shape              Param #   \n",
      "=================================================================\n",
      "conv2d_30 (Conv2D)           (None, 226, 226, 3)       30        \n",
      "_________________________________________________________________\n",
      "conv2d_31 (Conv2D)           (None, 224, 224, 3)       84        \n",
      "_________________________________________________________________\n",
      "densenet121 (Model)          (None, 7, 7, 1024)        7037504   \n",
      "_________________________________________________________________\n",
      "flatten_17 (Flatten)         (None, 50176)             0         \n",
      "_________________________________________________________________\n",
      "batch_normalization_41 (Batc (None, 50176)             200704    \n",
      "_________________________________________________________________\n",
      "dense_56 (Dense)             (None, 64)                3211328   \n",
      "_________________________________________________________________\n",
      "dropout_48 (Dropout)         (None, 64)                0         \n",
      "_________________________________________________________________\n",
      "batch_normalization_42 (Batc (None, 64)                256       \n",
      "_________________________________________________________________\n",
      "dense_57 (Dense)             (None, 32)                2080      \n",
      "_________________________________________________________________\n",
      "dropout_49 (Dropout)         (None, 32)                0         \n",
      "_________________________________________________________________\n",
      "batch_normalization_43 (Batc (None, 32)                128       \n",
      "_________________________________________________________________\n",
      "dense_58 (Dense)             (None, 16)                528       \n",
      "_________________________________________________________________\n",
      "dropout_50 (Dropout)         (None, 16)                0         \n",
      "_________________________________________________________________\n",
      "batch_normalization_44 (Batc (None, 16)                64        \n",
      "_________________________________________________________________\n",
      "dense_59 (Dense)             (None, 4)                 68        \n",
      "_________________________________________________________________\n",
      "dropout_51 (Dropout)         (None, 4)                 0         \n",
      "_________________________________________________________________\n",
      "batch_normalization_45 (Batc (None, 4)                 16        \n",
      "_________________________________________________________________\n",
      "dense_60 (Dense)             (None, 1)                 5         \n",
      "=================================================================\n",
      "Total params: 10,452,795\n",
      "Trainable params: 10,268,563\n",
      "Non-trainable params: 184,232\n",
      "_________________________________________________________________\n"
     ]
    }
   ],
   "source": [
    "densenet = DenseNet121(\n",
    "    #weights='../input/densenet-keras/DenseNet-BC-121-32-no-top.h5',\n",
    "    #weights=\"imagenet\",\n",
    "    include_top=False,\n",
    "    input_shape=(224,224,3)\n",
    ")\n",
    "\n",
    "shape_input_2 = (IMAGE_HEIGHT,IMAGE_WIDTH,1)\n",
    "model_chex = Sequential()\n",
    "model_chex.add(Conv2D(3,kernel_size=(3,3),activation='relu',input_shape=shape_input_2))\n",
    "model_chex.add(Conv2D(3,kernel_size=(3,3),activation='relu'))\n",
    "model_chex.add(densenet)\n",
    "model_chex.add(Flatten())\n",
    "model_chex.add(BatchNormalization())\n",
    "model_chex.add(Dense(64, activation='relu'))\n",
    "model_chex.add(Dropout(0.3))\n",
    "model_chex.add(BatchNormalization())\n",
    "model_chex.add(Dense(32, activation='relu'))\n",
    "model_chex.add(Dropout(0.2))\n",
    "model_chex.add(BatchNormalization())\n",
    "model_chex.add(Dense(16, activation='relu'))\n",
    "model_chex.add(Dropout(0.1))\n",
    "model_chex.add(BatchNormalization())\n",
    "model_chex.add(Dense(4, activation='relu'))\n",
    "model_chex.add(Dropout(0.1))\n",
    "model_chex.add(BatchNormalization())\n",
    "model_chex.add(Dense(1, activation='sigmoid'))\n",
    "#model_chex.load_weights(\"/content/drive/My Drive/Colab Notebooks/Capstone Project/model_chex_1_weights.h5\")\n",
    "#sgd_optimizer = tf.keras.optimizers.SGD(learning_rate=0.01,momentum=0.03)\n",
    "sgd_optimizer = tf.keras.optimizers.Adam(learning_rate=0.001)\n",
    "model_chex.compile(optimizer=sgd_optimizer, loss='binary_crossentropy', metrics=['accuracy'])\n",
    "model_chex.summary()"
   ]
  },
  {
   "cell_type": "code",
   "execution_count": 164,
   "metadata": {
    "colab": {
     "base_uri": "https://localhost:8080/",
     "height": 706
    },
    "colab_type": "code",
    "id": "FeXHhx5Mqsl7",
    "outputId": "38f8e1ce-3ea4-43de-c5ab-c6cc45a696f8"
   },
   "outputs": [
    {
     "name": "stdout",
     "output_type": "stream",
     "text": [
      "WARNING:tensorflow:`period` argument is deprecated. Please use `save_freq` to specify the frequency in number of batches seen.\n",
      "Epoch 1/10\n",
      "100/100 [==============================] - ETA: 0s - loss: 0.6720 - accuracy: 0.6495\n",
      "Epoch 00001: val_accuracy improved from -inf to 0.57556, saving model to model-0.67.h5\n",
      "100/100 [==============================] - 153s 2s/step - loss: 0.6720 - accuracy: 0.6495 - val_loss: 0.6865 - val_accuracy: 0.5756\n",
      "Epoch 2/10\n",
      "100/100 [==============================] - ETA: 0s - loss: 0.5597 - accuracy: 0.7248\n",
      "Epoch 00002: val_accuracy did not improve from 0.57556\n",
      "100/100 [==============================] - 147s 1s/step - loss: 0.5597 - accuracy: 0.7248 - val_loss: 0.6856 - val_accuracy: 0.5496\n",
      "Epoch 3/10\n",
      "100/100 [==============================] - ETA: 0s - loss: 0.4914 - accuracy: 0.7705\n",
      "Epoch 00003: val_accuracy did not improve from 0.57556\n",
      "100/100 [==============================] - 148s 1s/step - loss: 0.4914 - accuracy: 0.7705 - val_loss: 0.7063 - val_accuracy: 0.5741\n",
      "Epoch 4/10\n",
      "100/100 [==============================] - ETA: 0s - loss: 0.4557 - accuracy: 0.7930\n",
      "Epoch 00004: val_accuracy did not improve from 0.57556\n",
      "100/100 [==============================] - 148s 1s/step - loss: 0.4557 - accuracy: 0.7930 - val_loss: 0.7136 - val_accuracy: 0.5756\n",
      "Epoch 5/10\n",
      "100/100 [==============================] - ETA: 0s - loss: 0.4316 - accuracy: 0.8006\n",
      "Epoch 00005: val_accuracy did not improve from 0.57556\n",
      "100/100 [==============================] - 148s 1s/step - loss: 0.4316 - accuracy: 0.8006 - val_loss: 0.7237 - val_accuracy: 0.5756\n",
      "Epoch 6/10\n",
      "100/100 [==============================] - ETA: 0s - loss: 0.4186 - accuracy: 0.8108\n",
      "Epoch 00006: val_accuracy improved from 0.57556 to 0.66074, saving model to model-0.42.h5\n",
      "100/100 [==============================] - 148s 1s/step - loss: 0.4186 - accuracy: 0.8108 - val_loss: 0.6323 - val_accuracy: 0.6607\n",
      "Epoch 7/10\n",
      "100/100 [==============================] - ETA: 0s - loss: 0.3957 - accuracy: 0.8287\n",
      "Epoch 00007: val_accuracy improved from 0.66074 to 0.75370, saving model to model-0.40.h5\n",
      "100/100 [==============================] - 148s 1s/step - loss: 0.3957 - accuracy: 0.8287 - val_loss: 0.5409 - val_accuracy: 0.7537\n",
      "Epoch 8/10\n",
      "100/100 [==============================] - ETA: 0s - loss: 0.3739 - accuracy: 0.8365\n",
      "Epoch 00008: val_accuracy improved from 0.75370 to 0.77074, saving model to model-0.37.h5\n",
      "100/100 [==============================] - 148s 1s/step - loss: 0.3739 - accuracy: 0.8365 - val_loss: 0.5080 - val_accuracy: 0.7707\n",
      "Epoch 9/10\n",
      "100/100 [==============================] - ETA: 0s - loss: 0.3649 - accuracy: 0.8433\n",
      "Epoch 00009: val_accuracy did not improve from 0.77074\n",
      "100/100 [==============================] - 147s 1s/step - loss: 0.3649 - accuracy: 0.8433 - val_loss: 0.5643 - val_accuracy: 0.7633\n",
      "Epoch 10/10\n",
      "100/100 [==============================] - ETA: 0s - loss: 0.3386 - accuracy: 0.8592\n",
      "Epoch 00010: val_accuracy improved from 0.77074 to 0.77148, saving model to model-0.34.h5\n",
      "100/100 [==============================] - 147s 1s/step - loss: 0.3386 - accuracy: 0.8592 - val_loss: 0.5726 - val_accuracy: 0.7715\n"
     ]
    }
   ],
   "source": [
    "checkpoint = ModelCheckpoint(\"model-{loss:.2f}.h5\", monitor=\"val_accuracy\", verbose=1, save_best_only=True,\n",
    "                             save_weights_only=True, mode=\"max\", period=1)\n",
    "early_stopping_monitor = EarlyStopping(\n",
    "    monitor='val_loss',\n",
    "    min_delta=0,\n",
    "    patience=4,\n",
    "    verbose=0,\n",
    "    mode='auto',\n",
    "    baseline=None,\n",
    "    restore_best_weights=True\n",
    "\n",
    "history_chex=model_chex.fit(X_train,y_train,\n",
    "          validation_data=(X_val,y_val),\n",
    "          callbacks=[early_stopping_monitor ,checkpoint],\n",
    "          epochs=10,\n",
    "          batch_size=63)\n",
    "          #steps_per_epoch=50)\n"
   ]
  },
  {
   "cell_type": "code",
   "execution_count": 170,
   "metadata": {
    "colab": {
     "base_uri": "https://localhost:8080/",
     "height": 386
    },
    "colab_type": "code",
    "id": "yBaCAfE9q11c",
    "outputId": "1b937842-e564-4dcf-cb1d-8de82a93d2dd"
   },
   "outputs": [
    {
     "name": "stdout",
     "output_type": "stream",
     "text": [
      "Confusion Matrix:\n",
      " [[224 197]\n",
      " [ 44 535]] \n",
      "\n",
      "Classification Report:\n",
      "               precision    recall  f1-score   support\n",
      "\n",
      "           0       0.84      0.53      0.65       421\n",
      "           1       0.73      0.92      0.82       579\n",
      "\n",
      "    accuracy                           0.76      1000\n",
      "   macro avg       0.78      0.73      0.73      1000\n",
      "weighted avg       0.78      0.76      0.75      1000\n",
      " \n",
      "\n",
      "Accuracy Score:\n",
      " 0.759 \n",
      "\n",
      "Model Evaluation Loss :\n",
      " 0.6337908506393433\n",
      "Model Evaluation Accuracy :\n",
      " 0.7590000033378601\n"
     ]
    }
   ],
   "source": [
    "y_pred_chex=(model_chex.predict(X_test) > 0.5).astype(\"int32\")\n",
    "print('Confusion Matrix:\\n',confusion_matrix(y_test,y_pred_chex),'\\n')\n",
    "print('Classification Report:\\n',classification_report(y_test,y_pred_chex),'\\n')\n",
    "print('Accuracy Score:\\n',accuracy_score(y_test,y_pred_chex),'\\n')\n",
    "eval_chex=model_chex.evaluate(X_test,y_test,verbose=0)\n",
    "print('Model Evaluation Loss :\\n',eval_chex[0])\n",
    "print('Model Evaluation Accuracy :\\n',eval_chex[1])"
   ]
  },
  {
   "cell_type": "code",
   "execution_count": 171,
   "metadata": {
    "colab": {
     "base_uri": "https://localhost:8080/",
     "height": 316
    },
    "colab_type": "code",
    "id": "p2dNJP38q1_2",
    "outputId": "204e830c-04b6-45db-cc81-9c51987a2228"
   },
   "outputs": [
    {
     "data": {
      "text/plain": [
       "<matplotlib.legend.Legend at 0x7f36062f2470>"
      ]
     },
     "execution_count": 171,
     "metadata": {
      "tags": []
     },
     "output_type": "execute_result"
    },
    {
     "data": {
      "image/png": "[encoded data removed]",
      "text/plain": [
       "<Figure size 432x288 with 1 Axes>"
      ]
     },
     "metadata": {
      "tags": []
     },
     "output_type": "display_data"
    }
   ],
   "source": [
    "style.use('ggplot')\n",
    "plt.plot(history_chex.history['accuracy'],label='model accuracy')\n",
    "plt.plot(history_chex.history['val_accuracy'],label='validation accuracy')\n",
    "plt.plot(history_chex.history['loss'],label='loss')\n",
    "plt.title('model accuracy')\n",
    "plt.ylabel('accuracy')\n",
    "plt.xlabel('epoch')\n",
    "plt.legend()"
   ]
  },
  {
   "cell_type": "code",
   "execution_count": 0,
   "metadata": {
    "colab": {},
    "colab_type": "code",
    "collapsed": true,
    "id": "HallIEUwq1QM"
   },
   "outputs": [],
   "source": []
  }
 ],
 "metadata": {
  "accelerator": "GPU",
  "colab": {
   "collapsed_sections": [
    "B-PLLXyiwbx-"
   ],
   "name": "final submition.ipynb",
   "provenance": []
  },
  "kernelspec": {
   "display_name": "Python 3",
   "language": "python",
   "name": "python3"
  },
  "language_info": {
   "codemirror_mode": {
    "name": "ipython",
    "version": 3
   },
   "file_extension": ".py",
   "mimetype": "text/x-python",
   "name": "python",
   "nbconvert_exporter": "python",
   "pygments_lexer": "ipython3",
   "version": "3.6.2"
  }
 },
 "nbformat": 4,
 "nbformat_minor": 1
}
